{
  "nbformat": 4,
  "nbformat_minor": 0,
  "metadata": {
    "orig_nbformat": 2,
    "colab": {
      "name": "Beginner-Python-loops.ipynb",
      "provenance": []
    },
    "language_info": {
      "name": "python"
    },
    "kernelspec": {
      "name": "python3",
      "display_name": "Python 3"
    }
  },
  "cells": [
    {
      "cell_type": "markdown",
      "metadata": {
        "id": "h7T00U8F7BLF"
      },
      "source": [
        "# Beginner's Python Cheat Sheet -- If Statements and While Loops\n",
        "\n",
        "## What are if Statements? What a while Loops\n",
        "if statements allow you to examine the current state of a program and respond appropriately to that state. You can write a simple if statement that checks one condition, or you can create a complex series of if statements that identify the exact comditions you're looking for. \n",
        "\n",
        "While loops run as long as certain conditions remian true. You can use while loops to let your programs run as long as your users want them to. "
      ]
    },
    {
      "cell_type": "markdown",
      "metadata": {
        "id": "1KV2nxuzCaAr"
      },
      "source": [
        "## Conditional Tests\n",
        "A conditional test is an expression that can be evaluated as True or False. Python uses the values True and False to decide whether the code in an if statement should be executed.\n",
        "\n",
        "### Checking for equality\n",
        "A single equal sign assigns a value to a variable. A doubel equal sign(==) checks whether two values are equal."
      ]
    },
    {
      "cell_type": "code",
      "metadata": {
        "id": "hX0OoTijCZMc",
        "outputId": "75154d27-026f-4216-c9aa-23d71a77a956",
        "colab": {
          "base_uri": "https://localhost:8080/"
        }
      },
      "source": [
        "car = 'bmw'\n",
        "print(car == 'bmw')\n",
        "\n",
        "car = 'audi'\n",
        "print(car == 'bmw')"
      ],
      "execution_count": 1,
      "outputs": [
        {
          "output_type": "stream",
          "text": [
            "True\n",
            "False\n"
          ],
          "name": "stdout"
        }
      ]
    },
    {
      "cell_type": "code",
      "metadata": {
        "id": "gUnoFFnhDXcl",
        "outputId": "2c25ae48-89f0-4771-ce68-0a04deeeb6f5",
        "colab": {
          "base_uri": "https://localhost:8080/"
        }
      },
      "source": [
        "# Ignoring case when making a comparison\n",
        "car = 'Audi'\n",
        "print(car.lower() == 'audi')\n",
        "\n",
        "# Checking for inequality\n",
        "topping = 'mushrooms'\n",
        "print(topping != 'anchovies')"
      ],
      "execution_count": 3,
      "outputs": [
        {
          "output_type": "stream",
          "text": [
            "True\n",
            "True\n"
          ],
          "name": "stdout"
        }
      ]
    },
    {
      "cell_type": "markdown",
      "metadata": {
        "id": "fFOaBNueDu46"
      },
      "source": [
        "## Numberical comparisions\n",
        "Testing numberical values is similar to testing string values"
      ]
    },
    {
      "cell_type": "code",
      "metadata": {
        "id": "9A0DOInED20r",
        "outputId": "f19cee16-f208-4aaf-8b5f-c999e1d9d54f",
        "colab": {
          "base_uri": "https://localhost:8080/"
        }
      },
      "source": [
        "# Testing equality and inequality\n",
        "age = 18\n",
        "print(age == 18)\n",
        "print(age != 18)\n",
        "\n",
        "# Comparison operators\n",
        "age = 19\n",
        "print(age < 21)\n",
        "print(age <= 21)\n",
        "print(age > 21)\n",
        "print( age >= 21)"
      ],
      "execution_count": 4,
      "outputs": [
        {
          "output_type": "stream",
          "text": [
            "True\n",
            "False\n",
            "True\n",
            "True\n",
            "False\n",
            "False\n"
          ],
          "name": "stdout"
        }
      ]
    },
    {
      "cell_type": "markdown",
      "metadata": {
        "id": "R-YRnaFMELQB"
      },
      "source": [
        "## Checking mulitple conditions\n",
        "You can check multiple conditions at the same time. The and operator returns True if all the conditions listed are True. The or operator returns True if any condition is True."
      ]
    },
    {
      "cell_type": "code",
      "metadata": {
        "id": "Fwi_PrylE1Bs",
        "outputId": "0f9d326a-7433-42d9-a462-0b5c37fd5329",
        "colab": {
          "base_uri": "https://localhost:8080/"
        }
      },
      "source": [
        "# Using and to check multiple conditions\n",
        "age_0 = 22\n",
        "age_1 = 18\n",
        "print(age_0 >= 21 and age_1 >= 21)\n",
        "\n",
        "age_1 = 23\n",
        "print(age_0 >= 21 and age_1 >= 21)\n",
        "\n",
        "# Using or to check multiple conditions\n",
        "age_0 = 22\n",
        "age_1 = 18\n",
        "print(age_0 >= 21 or age_1 >= 21)\n",
        "\n",
        "age_0 = 18 \n",
        "print(age_0 >= 21 or age_1 >= 21)"
      ],
      "execution_count": 8,
      "outputs": [
        {
          "output_type": "stream",
          "text": [
            "False\n",
            "True\n",
            "True\n",
            "False\n"
          ],
          "name": "stdout"
        }
      ]
    },
    {
      "cell_type": "markdown",
      "metadata": {
        "id": "NkA06DvgFm6a"
      },
      "source": [
        "## Boolean values\n",
        "A boolean value is either True or False. Variables with boolean values are often used to keep track of certain conditions within a program."
      ]
    },
    {
      "cell_type": "code",
      "metadata": {
        "id": "AlWVqCDQFzQm"
      },
      "source": [
        "# Simple boolean values\n",
        "game_active = True\n",
        "can_edit = False"
      ],
      "execution_count": null,
      "outputs": []
    },
    {
      "cell_type": "markdown",
      "metadata": {
        "id": "02ehOTGDF5zu"
      },
      "source": [
        "## If statements\n",
        "Several kinds of if statements exist. Your choice of which to use depends on the number of conditions you need to test. You can have as many elif block as you need, and the else block is always optional."
      ]
    },
    {
      "cell_type": "code",
      "metadata": {
        "id": "iaOPAtIfGz4l"
      },
      "source": [
        "# Simple if statement\n",
        "age = 19\n",
        "\n",
        "if age >= 18:\n",
        "  print(\"You're old enough to vote!\")\n",
        "\n",
        "# If-else statements\n",
        "age = 17\n",
        "\n",
        "if age >= 18: \n",
        "  print(\"You're old enough to vote!\")\n",
        "else:\n",
        "  print(\"You can't vote yet.\")\n",
        "\n",
        "# The if-elif-else chain\n",
        "age = 12\n",
        "\n",
        "if age < 4:\n",
        "  price = 0\n",
        "elif age < 18:\n",
        "  price = 5\n",
        "else:\n",
        "  print = 10\n",
        "\n",
        "print(\"Your cost is $\" + str(price) + \".\")"
      ],
      "execution_count": null,
      "outputs": []
    },
    {
      "cell_type": "markdown",
      "metadata": {
        "id": "nes18Wo4H3Q3"
      },
      "source": [
        "## Conditional tests with lists\n",
        "You can easily test whether a certain value is in a list. You can also test whether a list is empty before trying to loop through the list."
      ]
    },
    {
      "cell_type": "code",
      "metadata": {
        "id": "2cyIBrUDIM5M",
        "outputId": "45db123a-f17b-43a8-eeb2-a9931b4b75b8",
        "colab": {
          "base_uri": "https://localhost:8080/"
        }
      },
      "source": [
        "# Testing if a value is in a list\n",
        "players = ['al', 'bea', 'cyn', 'dale']\n",
        "print('al' in players)\n",
        "print('eric' in players)"
      ],
      "execution_count": 9,
      "outputs": [
        {
          "output_type": "stream",
          "text": [
            "True\n",
            "False\n"
          ],
          "name": "stdout"
        }
      ]
    },
    {
      "cell_type": "markdown",
      "metadata": {
        "id": "sSmPTQl0IqzM"
      },
      "source": [
        "## Conditional tests with lists(cont.)"
      ]
    },
    {
      "cell_type": "code",
      "metadata": {
        "id": "XPtCIWlwIwxC",
        "outputId": "4061924a-bdc2-4c2e-c513-447cfe97375d",
        "colab": {
          "base_uri": "https://localhost:8080/"
        }
      },
      "source": [
        "# Testing if a value is not in a list\n",
        "banned_users = ['ann', 'chad', 'dee']\n",
        "user = 'erin'\n",
        "\n",
        "if user not in banned_users:\n",
        "  print(\"You can play!\")\n",
        "\n",
        "# Checking if a list is empty\n",
        "players = []\n",
        "\n",
        "if players: \n",
        "  for player in players:\n",
        "    print(\"Player:\" + player.title())\n",
        "else:\n",
        "  print(\"We have no players yet!\")"
      ],
      "execution_count": 10,
      "outputs": [
        {
          "output_type": "stream",
          "text": [
            "You can play!\n",
            "We have no players yet!\n"
          ],
          "name": "stdout"
        }
      ]
    },
    {
      "cell_type": "markdown",
      "metadata": {
        "id": "T5ZggE5_K10t"
      },
      "source": [
        "## Accepting input \n",
        "YOu can allow your users to enter input using the input() statement. In Python3, all input is stored as a string."
      ]
    },
    {
      "cell_type": "code",
      "metadata": {
        "id": "ivqnhUY3LAtN",
        "outputId": "988f54d0-5a95-43c8-d069-76ca89c3b4d7",
        "colab": {
          "base_uri": "https://localhost:8080/"
        }
      },
      "source": [
        "# Simple input\n",
        "name = input(\"What's your name? \")\n",
        "print(\"Hello, \" + name + \".\")\n",
        "\n",
        "# Accepting numberical input\n",
        "age = input(\"How old are you?\")\n",
        "age = int(age)\n",
        "\n",
        "if age >= 18:\n",
        "  print(\"\\nYou can vote!\")\n",
        "else:\n",
        "  print(\"\\nYou can't vote yet.\")\n",
        "  "
      ],
      "execution_count": 12,
      "outputs": [
        {
          "output_type": "stream",
          "text": [
            "What's your name? Danny\n",
            "Hello, Danny.\n",
            "How old are you?30\n",
            "\n",
            "You can vote!\n"
          ],
          "name": "stdout"
        }
      ]
    },
    {
      "cell_type": "markdown",
      "metadata": {
        "id": "ZiVAty8aLvDE"
      },
      "source": [
        "## While loops\n",
        "A while loop repeats a block of code as long as a condition is True"
      ]
    },
    {
      "cell_type": "code",
      "metadata": {
        "id": "DO35D2N5L6po",
        "outputId": "15e5f785-47e7-4000-bbf4-df8387b5d427",
        "colab": {
          "base_uri": "https://localhost:8080/"
        }
      },
      "source": [
        "# Counting to 5\n",
        "current_number = 1\n",
        "while current_number <= 5:\n",
        "  print(current_number)\n",
        "  current_number += 1"
      ],
      "execution_count": 13,
      "outputs": [
        {
          "output_type": "stream",
          "text": [
            "1\n",
            "2\n",
            "3\n",
            "4\n",
            "5\n"
          ],
          "name": "stdout"
        }
      ]
    },
    {
      "cell_type": "markdown",
      "metadata": {
        "id": "vr_Cn5JUMFKI"
      },
      "source": [
        "## While loop (cont.)\n",
        "Letting the user choose when to quit"
      ]
    },
    {
      "cell_type": "code",
      "metadata": {
        "id": "9kpzfIPSMMw6",
        "outputId": "084cc6aa-1f04-4dae-b4c7-80309c6f63f2",
        "colab": {
          "base_uri": "https://localhost:8080/"
        }
      },
      "source": [
        "prompt = \"\\nTell me something, and I'll\"\n",
        "prompt += \"repeat it back to you.\"\n",
        "prompt += \"\\nEnter 'quit' to end the program.\"\n",
        "\n",
        "message = \"\"\n",
        "\n",
        "while message !='quit':\n",
        "  message = input(prompt)\n",
        "  if message != 'quit':\n",
        "    print(message)\n",
        "\n",
        "# Using a flag\n",
        "prompt = \"\\nTell me something, and I'll\"\n",
        "prompt += \"repeat it back to you.\"\n",
        "prompt += \"\\nEnter 'quit' to end the program.\"\n",
        "\n",
        "active = True\n",
        "while active:\n",
        "  message = input(prompt)\n",
        "  if message == 'quit':\n",
        "    active = False\n",
        "  else:\n",
        "    print(message)\n",
        "  \n",
        "# Using break to exit a loop\n",
        "prompt = \"\\nwhat cities have you visited?\"\n",
        "prmopt += \"\\nEnter 'quit' when you're done. \"\n",
        "\n",
        "while True:\n",
        "  city = input(prompt)\n",
        "\n",
        "  if city == 'quit':\n",
        "    break\n",
        "  else:\n",
        "    print(\"I've been to \" + city + \"!\")"
      ],
      "execution_count": 14,
      "outputs": [
        {
          "output_type": "stream",
          "text": [
            "\n",
            "Tell me something, and I'llrepeat it back to you.\n",
            "Enter 'quit' to end the program.lala\n",
            "lala\n",
            "\n",
            "Tell me something, and I'llrepeat it back to you.\n",
            "Enter 'quit' to end the program.lala\n",
            "lala\n",
            "\n",
            "Tell me something, and I'llrepeat it back to you.\n",
            "Enter 'quit' to end the program.quit\n"
          ],
          "name": "stdout"
        }
      ]
    },
    {
      "cell_type": "markdown",
      "metadata": {
        "id": "_5PKXqk1Nwa9"
      },
      "source": [
        "## Accepting input with Sublime Text\n",
        "Sublime Text doesn't run program that prompt the user for input.You can use Sublime Text to write programs that prompt for input, but you'll need to run these programs from a terminal.\n",
        "\n",
        "## Breaking out of loops\n",
        "You can use the break statement and the continue statement with any of Python's loops. For example you can use break to quit a for loop that's working through a list or a dictionary. You can use continue to skip over certain items when looping through a list or dictionary as well.\n",
        "\n",
        "## While loop (cont.)"
      ]
    },
    {
      "cell_type": "code",
      "metadata": {
        "id": "Up0CL5Zp_ozd",
        "outputId": "bd3cbdf9-bfdb-4caa-eb6d-363afd1a76d5",
        "colab": {
          "base_uri": "https://localhost:8080/"
        }
      },
      "source": [
        "# Using continue in a loop\n",
        "banned_users = ['eve', 'fred', 'gary', 'helen']\n",
        "\n",
        "prompt = \"\\nAdd a player to your team.\"\n",
        "prompt += \"\\nEnter 'quit' when you're done.\"\n",
        "\n",
        "players = []\n",
        "while True:\n",
        "  player = input(prompt)\n",
        "  if player == 'quit':\n",
        "    break\n",
        "  elif player in banned_users:\n",
        "    print(player + \" is banned!\")\n",
        "    continue\n",
        "  else:\n",
        "    players.append(player)\n",
        "\n",
        "print(\"\\nYour team:\")\n",
        "for player in players:\n",
        "  print(player)"
      ],
      "execution_count": 1,
      "outputs": [
        {
          "output_type": "stream",
          "text": [
            "\n",
            "Add a player to your team.\n",
            "Enter 'quit' when you're done.danny\n",
            "\n",
            "Add a player to your team.\n",
            "Enter 'quit' when you're done.Richard\n",
            "\n",
            "Add a player to your team.\n",
            "Enter 'quit' when you're done.quit\n",
            "\n",
            "Your team:\n",
            "danny\n",
            "Richard\n"
          ],
          "name": "stdout"
        }
      ]
    },
    {
      "cell_type": "markdown",
      "metadata": {
        "id": "E2gMUGJaCCaS"
      },
      "source": [
        "## Avoiding infinnite loops\n",
        "Every while loop needs a way to stop running so it won't continue to run forever. If there's no way for the condition to become False. the loop will never stop running."
      ]
    },
    {
      "cell_type": "code",
      "metadata": {
        "id": "oI0Iy08ICSON",
        "outputId": "5a7e5577-a6d0-4fb0-c1ac-39225bde488c",
        "colab": {
          "base_uri": "https://localhost:8080/",
          "height": 681
        }
      },
      "source": [
        "# An infinite loop\n",
        "while True:\n",
        "  name = input(\"\\nWho are you? \")\n",
        "  print(\"Nice to meet you, \" + name + \"!\")\n"
      ],
      "execution_count": 2,
      "outputs": [
        {
          "output_type": "stream",
          "text": [
            "\n",
            "Who are you? danny\n",
            "Nice to meet you, danny!\n",
            "\n",
            "Who are you? richard\n",
            "Nice to meet you, richard!\n",
            "\n",
            "Who are you? andy\n",
            "Nice to meet you, andy!\n"
          ],
          "name": "stdout"
        },
        {
          "output_type": "error",
          "ename": "KeyboardInterrupt",
          "evalue": "ignored",
          "traceback": [
            "\u001b[0;31m---------------------------------------------------------------------------\u001b[0m",
            "\u001b[0;31mKeyboardInterrupt\u001b[0m                         Traceback (most recent call last)",
            "\u001b[0;32m/usr/local/lib/python3.7/dist-packages/ipykernel/kernelbase.py\u001b[0m in \u001b[0;36m_input_request\u001b[0;34m(self, prompt, ident, parent, password)\u001b[0m\n\u001b[1;32m    728\u001b[0m             \u001b[0;32mtry\u001b[0m\u001b[0;34m:\u001b[0m\u001b[0;34m\u001b[0m\u001b[0;34m\u001b[0m\u001b[0m\n\u001b[0;32m--> 729\u001b[0;31m                 \u001b[0mident\u001b[0m\u001b[0;34m,\u001b[0m \u001b[0mreply\u001b[0m \u001b[0;34m=\u001b[0m \u001b[0mself\u001b[0m\u001b[0;34m.\u001b[0m\u001b[0msession\u001b[0m\u001b[0;34m.\u001b[0m\u001b[0mrecv\u001b[0m\u001b[0;34m(\u001b[0m\u001b[0mself\u001b[0m\u001b[0;34m.\u001b[0m\u001b[0mstdin_socket\u001b[0m\u001b[0;34m,\u001b[0m \u001b[0;36m0\u001b[0m\u001b[0;34m)\u001b[0m\u001b[0;34m\u001b[0m\u001b[0;34m\u001b[0m\u001b[0m\n\u001b[0m\u001b[1;32m    730\u001b[0m             \u001b[0;32mexcept\u001b[0m \u001b[0mException\u001b[0m\u001b[0;34m:\u001b[0m\u001b[0;34m\u001b[0m\u001b[0;34m\u001b[0m\u001b[0m\n",
            "\u001b[0;32m/usr/local/lib/python3.7/dist-packages/jupyter_client/session.py\u001b[0m in \u001b[0;36mrecv\u001b[0;34m(self, socket, mode, content, copy)\u001b[0m\n\u001b[1;32m    802\u001b[0m         \u001b[0;32mtry\u001b[0m\u001b[0;34m:\u001b[0m\u001b[0;34m\u001b[0m\u001b[0;34m\u001b[0m\u001b[0m\n\u001b[0;32m--> 803\u001b[0;31m             \u001b[0mmsg_list\u001b[0m \u001b[0;34m=\u001b[0m \u001b[0msocket\u001b[0m\u001b[0;34m.\u001b[0m\u001b[0mrecv_multipart\u001b[0m\u001b[0;34m(\u001b[0m\u001b[0mmode\u001b[0m\u001b[0;34m,\u001b[0m \u001b[0mcopy\u001b[0m\u001b[0;34m=\u001b[0m\u001b[0mcopy\u001b[0m\u001b[0;34m)\u001b[0m\u001b[0;34m\u001b[0m\u001b[0;34m\u001b[0m\u001b[0m\n\u001b[0m\u001b[1;32m    804\u001b[0m         \u001b[0;32mexcept\u001b[0m \u001b[0mzmq\u001b[0m\u001b[0;34m.\u001b[0m\u001b[0mZMQError\u001b[0m \u001b[0;32mas\u001b[0m \u001b[0me\u001b[0m\u001b[0;34m:\u001b[0m\u001b[0;34m\u001b[0m\u001b[0;34m\u001b[0m\u001b[0m\n",
            "\u001b[0;32m/usr/local/lib/python3.7/dist-packages/zmq/sugar/socket.py\u001b[0m in \u001b[0;36mrecv_multipart\u001b[0;34m(self, flags, copy, track)\u001b[0m\n\u001b[1;32m    582\u001b[0m         \"\"\"\n\u001b[0;32m--> 583\u001b[0;31m         \u001b[0mparts\u001b[0m \u001b[0;34m=\u001b[0m \u001b[0;34m[\u001b[0m\u001b[0mself\u001b[0m\u001b[0;34m.\u001b[0m\u001b[0mrecv\u001b[0m\u001b[0;34m(\u001b[0m\u001b[0mflags\u001b[0m\u001b[0;34m,\u001b[0m \u001b[0mcopy\u001b[0m\u001b[0;34m=\u001b[0m\u001b[0mcopy\u001b[0m\u001b[0;34m,\u001b[0m \u001b[0mtrack\u001b[0m\u001b[0;34m=\u001b[0m\u001b[0mtrack\u001b[0m\u001b[0;34m)\u001b[0m\u001b[0;34m]\u001b[0m\u001b[0;34m\u001b[0m\u001b[0;34m\u001b[0m\u001b[0m\n\u001b[0m\u001b[1;32m    584\u001b[0m         \u001b[0;31m# have first part already, only loop while more to receive\u001b[0m\u001b[0;34m\u001b[0m\u001b[0;34m\u001b[0m\u001b[0;34m\u001b[0m\u001b[0m\n",
            "\u001b[0;32mzmq/backend/cython/socket.pyx\u001b[0m in \u001b[0;36mzmq.backend.cython.socket.Socket.recv\u001b[0;34m()\u001b[0m\n",
            "\u001b[0;32mzmq/backend/cython/socket.pyx\u001b[0m in \u001b[0;36mzmq.backend.cython.socket.Socket.recv\u001b[0;34m()\u001b[0m\n",
            "\u001b[0;32mzmq/backend/cython/socket.pyx\u001b[0m in \u001b[0;36mzmq.backend.cython.socket._recv_copy\u001b[0;34m()\u001b[0m\n",
            "\u001b[0;32m/usr/local/lib/python3.7/dist-packages/zmq/backend/cython/checkrc.pxd\u001b[0m in \u001b[0;36mzmq.backend.cython.checkrc._check_rc\u001b[0;34m()\u001b[0m\n",
            "\u001b[0;31mKeyboardInterrupt\u001b[0m: ",
            "\nDuring handling of the above exception, another exception occurred:\n",
            "\u001b[0;31mKeyboardInterrupt\u001b[0m                         Traceback (most recent call last)",
            "\u001b[0;32m<ipython-input-2-22c818166817>\u001b[0m in \u001b[0;36m<module>\u001b[0;34m()\u001b[0m\n\u001b[1;32m      1\u001b[0m \u001b[0;31m# An infinite loop\u001b[0m\u001b[0;34m\u001b[0m\u001b[0;34m\u001b[0m\u001b[0;34m\u001b[0m\u001b[0m\n\u001b[1;32m      2\u001b[0m \u001b[0;32mwhile\u001b[0m \u001b[0;32mTrue\u001b[0m\u001b[0;34m:\u001b[0m\u001b[0;34m\u001b[0m\u001b[0;34m\u001b[0m\u001b[0m\n\u001b[0;32m----> 3\u001b[0;31m   \u001b[0mname\u001b[0m \u001b[0;34m=\u001b[0m \u001b[0minput\u001b[0m\u001b[0;34m(\u001b[0m\u001b[0;34m\"\\nWho are you? \"\u001b[0m\u001b[0;34m)\u001b[0m\u001b[0;34m\u001b[0m\u001b[0;34m\u001b[0m\u001b[0m\n\u001b[0m\u001b[1;32m      4\u001b[0m   \u001b[0mprint\u001b[0m\u001b[0;34m(\u001b[0m\u001b[0;34m\"Nice to meet you, \"\u001b[0m \u001b[0;34m+\u001b[0m \u001b[0mname\u001b[0m \u001b[0;34m+\u001b[0m \u001b[0;34m\"!\"\u001b[0m\u001b[0;34m)\u001b[0m\u001b[0;34m\u001b[0m\u001b[0;34m\u001b[0m\u001b[0m\n",
            "\u001b[0;32m/usr/local/lib/python3.7/dist-packages/ipykernel/kernelbase.py\u001b[0m in \u001b[0;36mraw_input\u001b[0;34m(self, prompt)\u001b[0m\n\u001b[1;32m    702\u001b[0m             \u001b[0mself\u001b[0m\u001b[0;34m.\u001b[0m\u001b[0m_parent_ident\u001b[0m\u001b[0;34m,\u001b[0m\u001b[0;34m\u001b[0m\u001b[0;34m\u001b[0m\u001b[0m\n\u001b[1;32m    703\u001b[0m             \u001b[0mself\u001b[0m\u001b[0;34m.\u001b[0m\u001b[0m_parent_header\u001b[0m\u001b[0;34m,\u001b[0m\u001b[0;34m\u001b[0m\u001b[0;34m\u001b[0m\u001b[0m\n\u001b[0;32m--> 704\u001b[0;31m             \u001b[0mpassword\u001b[0m\u001b[0;34m=\u001b[0m\u001b[0;32mFalse\u001b[0m\u001b[0;34m,\u001b[0m\u001b[0;34m\u001b[0m\u001b[0;34m\u001b[0m\u001b[0m\n\u001b[0m\u001b[1;32m    705\u001b[0m         )\n\u001b[1;32m    706\u001b[0m \u001b[0;34m\u001b[0m\u001b[0m\n",
            "\u001b[0;32m/usr/local/lib/python3.7/dist-packages/ipykernel/kernelbase.py\u001b[0m in \u001b[0;36m_input_request\u001b[0;34m(self, prompt, ident, parent, password)\u001b[0m\n\u001b[1;32m    732\u001b[0m             \u001b[0;32mexcept\u001b[0m \u001b[0mKeyboardInterrupt\u001b[0m\u001b[0;34m:\u001b[0m\u001b[0;34m\u001b[0m\u001b[0;34m\u001b[0m\u001b[0m\n\u001b[1;32m    733\u001b[0m                 \u001b[0;31m# re-raise KeyboardInterrupt, to truncate traceback\u001b[0m\u001b[0;34m\u001b[0m\u001b[0;34m\u001b[0m\u001b[0;34m\u001b[0m\u001b[0m\n\u001b[0;32m--> 734\u001b[0;31m                 \u001b[0;32mraise\u001b[0m \u001b[0mKeyboardInterrupt\u001b[0m\u001b[0;34m\u001b[0m\u001b[0;34m\u001b[0m\u001b[0m\n\u001b[0m\u001b[1;32m    735\u001b[0m             \u001b[0;32melse\u001b[0m\u001b[0;34m:\u001b[0m\u001b[0;34m\u001b[0m\u001b[0;34m\u001b[0m\u001b[0m\n\u001b[1;32m    736\u001b[0m                 \u001b[0;32mbreak\u001b[0m\u001b[0;34m\u001b[0m\u001b[0;34m\u001b[0m\u001b[0m\n",
            "\u001b[0;31mKeyboardInterrupt\u001b[0m: "
          ]
        }
      ]
    },
    {
      "cell_type": "markdown",
      "metadata": {
        "id": "4xqEWmybCsna"
      },
      "source": [
        "## Removing all instances of a value from a list\n",
        "The remove() method removes a specific value from a list. but it only removes the first instance of the value you provide. You can use a while loop to remove all instances of a particular value."
      ]
    },
    {
      "cell_type": "code",
      "metadata": {
        "id": "QBlbjKCnD53b",
        "outputId": "2f552193-daa4-4619-b0a6-44c4f8e7366d",
        "colab": {
          "base_uri": "https://localhost:8080/"
        }
      },
      "source": [
        "# Removing all cats from a list of pets\n",
        "pets = ['dog', 'cat', 'dog', 'fish', 'cat', 'rabbit', 'cat']\n",
        "\n",
        "print(pets)\n",
        "\n",
        "while 'cat' in pets:\n",
        "  pets.remove('cat')\n",
        "\n",
        "print(pets)"
      ],
      "execution_count": 3,
      "outputs": [
        {
          "output_type": "stream",
          "text": [
            "['dog', 'cat', 'dog', 'fish', 'cat', 'rabbit', 'cat']\n",
            "['dog', 'dog', 'fish', 'rabbit']\n"
          ],
          "name": "stdout"
        }
      ]
    }
  ]
}