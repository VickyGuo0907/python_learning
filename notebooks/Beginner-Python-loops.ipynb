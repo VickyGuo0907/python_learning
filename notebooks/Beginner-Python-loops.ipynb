{
 "metadata": {
  "language_info": {
   "codemirror_mode": {
    "name": "ipython",
    "version": 3
   },
   "file_extension": ".py",
   "mimetype": "text/x-python",
   "name": "python",
   "nbconvert_exporter": "python",
   "pygments_lexer": "ipython3",
   "version": 3
  },
  "orig_nbformat": 2
 },
 "nbformat": 4,
 "nbformat_minor": 2,
 "cells": [
  {
   "source": [
    "# Beginner's Python Cheat Sheet -- If Statements and While Loops\n",
    "\n",
    "## What are if Statements? What a while Loops\n",
    "if statements allow you to examine the current state of a program and respond appropriately to that state. "
   ],
   "cell_type": "markdown",
   "metadata": {}
  }
 ]
}