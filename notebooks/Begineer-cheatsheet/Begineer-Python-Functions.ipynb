{
  "nbformat": 4,
  "nbformat_minor": 0,
  "metadata": {
    "orig_nbformat": 2,
    "colab": {
      "name": "Begineer-Python-Functions.ipynb",
      "provenance": []
    },
    "language_info": {
      "name": "python"
    },
    "kernelspec": {
      "name": "python3",
      "display_name": "Python 3"
    }
  },
  "cells": [
    {
      "cell_type": "markdown",
      "metadata": {
        "id": "zsPJtiJZHUCs"
      },
      "source": [
        "# Beginner's Python Cheat Sheet -- Functions\n",
        "\n",
        "## What are functions?\n",
        "Functions are named blockes of code designed to do one specific job. Functions allow you to write code once that can then be run whenever you need to accomplish the same task. Functions can take in the information they need, and return the information they generate. Using functions effectively makes your programs easier to write, read, test and fix."
      ]
    },
    {
      "cell_type": "markdown",
      "metadata": {
        "id": "RLGpEQJZHs7I"
      },
      "source": [
        "## Defining a function\n",
        "The first line of a function is its definition, marked by the keyword def. The name of the function is followed by a set of parentheses and a colon. A docstring in triple quotes, describes what the function does. The body of a function is indented one level. \n",
        "To call a function, give the name of the function followed by a set of parentheses. "
      ]
    },
    {
      "cell_type": "code",
      "metadata": {
        "id": "jwdLWpoiIPL-"
      },
      "source": [
        "# Making a function \n",
        "def greet_user():\n",
        "  \"\"\"Display a simple greeting.\"\"\"\n",
        "  print(\"hello\")\n",
        "\n",
        "greet_user()"
      ],
      "execution_count": null,
      "outputs": []
    },
    {
      "cell_type": "markdown",
      "metadata": {
        "id": "0xGwnEXQIgJs"
      },
      "source": [
        "## Passing information to a function\n",
        "Information that's passed to a function is called an argument; information that's received by a function is called a parameter. Arguments are included in parentheses after the function's name and parameters are listed in parentheses in the function's definition"
      ]
    },
    {
      "cell_type": "code",
      "metadata": {
        "id": "UgIMrGiII5WF",
        "outputId": "708ee8d8-283b-4c5c-a420-c4405eba9dde",
        "colab": {
          "base_uri": "https://localhost:8080/"
        }
      },
      "source": [
        "# Passing a single argument\n",
        "def greet_user(username):\n",
        "  \"\"\"Display a simple greeting.\"\"\"\n",
        "  print(\"Hello, \" + username + \"!\")\n",
        "\n",
        "greet_user('jesse')\n",
        "greet_user('diana')\n",
        "greet_user('brandon')"
      ],
      "execution_count": 1,
      "outputs": [
        {
          "output_type": "stream",
          "text": [
            "Hello, jesse!\n",
            "Hello, diana!\n",
            "Hello, brandon!\n"
          ],
          "name": "stdout"
        }
      ]
    },
    {
      "cell_type": "markdown",
      "metadata": {
        "id": "GasmCAlaJQEx"
      },
      "source": [
        "## Positional and keyword arguments\n",
        "The two main kinds of arguments are positional and keyword arguments. When you use positional arguments Python matches the first argument in the function call with the first parameter in the function definition, and so forth.\n",
        "With keyword arguments, you specify which parameter each argument should be assigned to in the function call when you use keyword arguments, the order of the arguments doesn't matter."
      ]
    },
    {
      "cell_type": "code",
      "metadata": {
        "id": "aI5cPkQJKe9v",
        "outputId": "d7bb2e6f-b27c-4e75-f0c0-4710a96a674e",
        "colab": {
          "base_uri": "https://localhost:8080/"
        }
      },
      "source": [
        "# Using positional arguments\n",
        "def describe_pet(animal, name):\n",
        "  \"\"\"Display information about a pet\"\"\"\n",
        "  print(\"\\nI have a \" + animal + \".\")\n",
        "  print(\"Its name is \" + name + \".\")\n",
        "\n",
        "describe_pet('hamster', 'harry')\n",
        "describe_pet('dog', 'willie')\n",
        "\n",
        "# Using keyword arguments\n",
        "describe_pet(animal='hamster', name='harry')\n",
        "describe_pet(name='willie', animal='dog' )\n"
      ],
      "execution_count": 3,
      "outputs": [
        {
          "output_type": "stream",
          "text": [
            "\n",
            "I have a hamster.\n",
            "Its name is harry.\n",
            "\n",
            "I have a dog.\n",
            "Its name is willie.\n",
            "\n",
            "I have a hamster.\n",
            "Its name is harry.\n",
            "\n",
            "I have a dog.\n",
            "Its name is willie.\n"
          ],
          "name": "stdout"
        }
      ]
    },
    {
      "cell_type": "markdown",
      "metadata": {
        "id": "ZI5vikz_MMLg"
      },
      "source": [
        "## Default values\n",
        "You can provide a default value for a paramter. When function calls omit this argument the default value will be used. Paramters with default values musht be listed after parameters without default values in the function's definition so postional arguments can still work correctly. "
      ]
    },
    {
      "cell_type": "code",
      "metadata": {
        "id": "rcNjaD5PMmeg",
        "outputId": "0809c8f4-b1b0-4aad-b0fe-d7e746822a2f",
        "colab": {
          "base_uri": "https://localhost:8080/"
        }
      },
      "source": [
        "# Using a default value\n",
        "def describe_pet(name, animal='dog'):\n",
        "  \"\"\"Display information about a pet.\"\"\"\n",
        "  print(\"\\nI have a \" + animal + \".\")\n",
        "  print(\"its name is \" + name + \".\")\n",
        "\n",
        "describe_pet('harry', 'hamster')\n",
        "describe_pet('willie')\n",
        "\n",
        "# Using None to make an argument optional\n",
        "def describe_pet(animal, name=None):\n",
        "  \"\"\"Display information about a pet.\"\"\"\n",
        "  print(\"\\nI have a \" + animal + \".\")\n",
        "  if name:\n",
        "    print(\"its name is \" + name + \".\")\n",
        "\n",
        "describe_pet('hamster', 'harry')\n",
        "describe_pet('snake')"
      ],
      "execution_count": 5,
      "outputs": [
        {
          "output_type": "stream",
          "text": [
            "\n",
            "I have a hamster.\n",
            "its name is harry.\n",
            "\n",
            "I have a dog.\n",
            "its name is willie.\n",
            "\n",
            "I have a hamster.\n",
            "its name is harry.\n",
            "\n",
            "I have a snake.\n"
          ],
          "name": "stdout"
        }
      ]
    },
    {
      "cell_type": "markdown",
      "metadata": {
        "id": "xcpj79gIPDdh"
      },
      "source": [
        "## Return values\n",
        "A function can return a value or a set of values. When a function return a value, the calling line must provide a variable in which to store the return value. A function stops running when it reaches a return statement."
      ]
    },
    {
      "cell_type": "code",
      "metadata": {
        "id": "ASOu0BxqPXKR",
        "outputId": "4c7b4a82-b06f-4f90-c139-eb3798b73f02",
        "colab": {
          "base_uri": "https://localhost:8080/"
        }
      },
      "source": [
        "# Returning a single value\n",
        "def get_full_name(first, last):\n",
        "  \"\"\"Return a neatly formatted full name.\"\"\"\n",
        "  full_name = first + ' ' + last \n",
        "  return full_name.title()\n",
        "\n",
        "musician = get_full_name('jimi', 'hendrix')\n",
        "print(musician)\n",
        "\n",
        "# Returning a dictionary\n",
        "def build_person(first, last):\n",
        "  \"\"\"Return a dictionary of information about a person.\"\"\"\n",
        "  person = {'first': first, 'last': last}\n",
        "  return person \n",
        "\n",
        "musician = build_person('jimi', 'hendrix')\n",
        "print(musician)\n",
        "\n",
        "# Returning a dictionary with optional values\n",
        "def build_person(first, last, age=None):\n",
        "  \"\"\"Return a dictionary of information about a person.\"\"\"\n",
        "  person = {'first': first, 'last':last}\n",
        "  if age:\n",
        "    person['age'] = age\n",
        "  return person\n",
        "\n",
        "musician = build_person('jimi', 'hendrix', 27)\n",
        "print(musician)\n",
        "\n",
        "musician = build_person('janis', 'joplin')\n",
        "print(musician)"
      ],
      "execution_count": 8,
      "outputs": [
        {
          "output_type": "stream",
          "text": [
            "Jimi Hendrix\n",
            "{'first': 'jimi', 'last': 'hendrix'}\n",
            "{'first': 'jimi', 'last': 'hendrix', 'age': 27}\n",
            "{'first': 'janis', 'last': 'joplin'}\n"
          ],
          "name": "stdout"
        }
      ]
    }
  ]
}