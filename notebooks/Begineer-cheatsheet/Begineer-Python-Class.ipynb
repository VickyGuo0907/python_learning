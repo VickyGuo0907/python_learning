{
  "cells": [
    {
      "cell_type": "markdown",
      "metadata": {
        "id": "zsPJtiJZHUCs"
      },
      "source": [
        "# Beginner's Python Cheat Sheet -- Class\n",
        "\n",
        "## What are Class?\n",
        "Classes are the foundation of object-oriented programming. Classes represent real-world things you want to model in your programs: for example dogs, cars, and robots. You use a class to make objects, which are specific instances of dogs, cars, and robots. A class defines the general behavior that a whole category of objects can have, and the information that can be associated with those objects.\n",
        "\n",
        "Classes can inherit from each other – you can write a class that extends the functionality of an existing class. This allows you to code efficiently for a wide variety of situations."
      ]
    },
    {
      "cell_type": "markdown",
      "metadata": {
        "id": "RLGpEQJZHs7I"
      },
      "source": [
        "## Creating and using a class\n",
        "Consider how we might model a car. What information would we associate with a car, and what behavior would it have? The information is stored in variables called attributes, and the behavior is represented by functions. Functions that are part of a class are called methods."
      ]
    },
    {
      "cell_type": "code",
      "execution_count": 1,
      "metadata": {},
      "outputs": [
        {
          "ename": "SyntaxError",
          "evalue": "invalid syntax (<ipython-input-1-0595d1143103>, line 1)",
          "output_type": "error",
          "traceback": [
            "\u001b[0;36m  File \u001b[0;32m\"<ipython-input-1-0595d1143103>\"\u001b[0;36m, line \u001b[0;32m1\u001b[0m\n\u001b[0;31m    Class Car():\u001b[0m\n\u001b[0m          ^\u001b[0m\n\u001b[0;31mSyntaxError\u001b[0m\u001b[0;31m:\u001b[0m invalid syntax\n"
          ]
        }
      ],
      "source": [
        "Class Car():\n",
        "    \"\"\"A simple attempt to model a car.\"\"\"\n",
        "    def __init__(self, make, model, year):\n",
        "        \"\"\"Initialize car attributes\"\"\"\n",
        "        self.make = make\n",
        "        self.model = model\n",
        "        self.year = year\n",
        "\n",
        "        # Fuel capacity and leve in gallons.\n",
        "        self.fuel_capacity = 15\n",
        "        self.fuel_level = 0\n",
        "\n",
        "    def fill_tank(self):\n",
        "        \"\"\"Fill gas tank to capacity.\"\"\"\n",
        "        self.fuel_level = self.fuel_capacity\n",
        "        print(\"Fuel tank is full.\")\n",
        "\n",
        "    def drive(self):\n",
        "        \"\"\"Simulate driving.\"\"\"\n",
        "        print(\"The car is moving.\")\n",
        "\n",
        "my_car = Car('audi','a4, 2016)\n",
        "\n",
        "print(my_car.make)\n",
        "print(my_car.model)\n",
        "print(my_car.year)"
      ]
    }
  ],
  "metadata": {
    "colab": {
      "name": "Begineer-Python-Functions.ipynb",
      "provenance": []
    },
    "kernelspec": {
      "display_name": "Python 3",
      "name": "python3"
    },
    "language_info": {
      "codemirror_mode": {
        "name": "ipython",
        "version": 3
      },
      "file_extension": ".py",
      "mimetype": "text/x-python",
      "name": "python",
      "nbconvert_exporter": "python",
      "pygments_lexer": "ipython3",
      "version": "3.9.0"
    },
    "orig_nbformat": 2
  },
  "nbformat": 4,
  "nbformat_minor": 0
}
