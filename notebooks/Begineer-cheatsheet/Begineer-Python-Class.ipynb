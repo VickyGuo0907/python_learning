{
  "cells": [
    {
      "cell_type": "markdown",
      "metadata": {
        "id": "zsPJtiJZHUCs"
      },
      "source": [
        "# Beginner's Python Cheat Sheet -- Class\n",
        "\n",
        "## What are Class?\n",
        "Classes are the foundation of object-oriented programming. Classes represent real-world things you want to model in your programs: for example dogs, cars, and robots. You use a class to make objects, which are specific instances of dogs, cars, and robots. A class defines the general behavior that a whole category of objects can have, and the information that can be associated with those objects.\n",
        "\n",
        "Classes can inherit from each other – you can write a class that extends the functionality of an existing class. This allows you to code efficiently for a wide variety of situations."
      ]
    },
    {
      "cell_type": "markdown",
      "metadata": {
        "id": "RLGpEQJZHs7I"
      },
      "source": [
        "## Creating and using a class\n",
        "Consider how we might model a car. What information would we associate with a car, and what behavior would it have? The information is stored in variables called attributes, and the behavior is represented by functions. Functions that are part of a class are called methods."
      ]
    },
    {
      "cell_type": "code",
      "execution_count": 5,
      "metadata": {
        "id": "OwgbmzPIOJmw",
        "outputId": "dd5e1af1-83a5-4493-9f40-da431a4ed881",
        "colab": {
          "base_uri": "https://localhost:8080/"
        }
      },
      "outputs": [
        {
          "output_type": "stream",
          "name": "stdout",
          "text": [
            "audi\n",
            "a4\n",
            "2016\n",
            "Fuel tank is full.\n",
            "The car is moving.\n",
            "The tank can't hold that much!\n",
            "Added fuel.\n"
          ]
        }
      ],
      "source": [
        "class Car():\n",
        "    \"\"\"A simple attempt to model a car.\"\"\"\n",
        "    def __init__(self, make, model, year):\n",
        "        \"\"\"Initialize car attributes\"\"\"\n",
        "        self.make = make\n",
        "        self.model = model\n",
        "        self.year = year\n",
        "\n",
        "        # Fuel capacity and leve in gallons.\n",
        "        self.fuel_capacity = 15\n",
        "        self.fuel_level = 0\n",
        "\n",
        "    def fill_tank(self):\n",
        "        \"\"\"Fill gas tank to capacity.\"\"\"\n",
        "        self.fuel_level = self.fuel_capacity\n",
        "        print(\"Fuel tank is full.\")\n",
        "\n",
        "    def drive(self):\n",
        "        \"\"\"Simulate driving.\"\"\"\n",
        "        print(\"The car is moving.\")\n",
        "\n",
        "    def update_fuel_level(self, new_level):\n",
        "      \"\"\"Update the fuel level.\"\"\"\n",
        "      if new_level <= self.fuel_capacity:\n",
        "        self.fuel_level = new_level\n",
        "      else:\n",
        "        print(\"The tank can't hold that much!\")\n",
        "\n",
        "    def add_fuel(self, amount):\n",
        "      \"\"\"Add fuel to the tank.\"\"\"\n",
        "      if (self.fuel_level + amount <= self.fuel_capacity):\n",
        "        self.fuel_level += amount\n",
        "        print(\"Added fuel.\")\n",
        "      else:\n",
        "        print(\"The tank won't hold that much.\")\n",
        "\n",
        "# Creating an object from a class\n",
        "my_car = Car('audi','a4', 2016)\n",
        "\n",
        "# Accessing attribute values\n",
        "print(my_car.make)\n",
        "print(my_car.model)\n",
        "print(my_car.year)\n",
        "\n",
        "# Calling methods\n",
        "my_car.fill_tank()\n",
        "my_car.drive()\n",
        "\n",
        "# Creating multiple objects\n",
        "my_old_car = Car('Subaru', 'Outback', 2013)\n",
        "my_truck = Car('Toyota', 'Tacoma', 2010)\n",
        "\n",
        "# Modify attributes directly\n",
        "my_new_car = Car('audi','a4', 2016)\n",
        "my_new_car.fuel_level = 5\n",
        "\n",
        "# Modify attributes by method\n",
        "my_new_car.update_fuel_level(20)\n",
        "my_new_car.add_fuel(5)\n"
      ]
    },
    {
      "cell_type": "markdown",
      "source": [
        "## Class Inheritance\n",
        "f the class you're writing is a specialized version of another class, you can use inheritance. When one class inherits from another, it automatically takes on all the attributes and methods of the parent class. The child class is free to introduce new attributes and methods, and override attributes and methods of the parent class.\n",
        "To inherit from another class include the name of the parent class in parentheses when defining the new class."
      ],
      "metadata": {
        "id": "orHSDz9GR1VY"
      }
    },
    {
      "cell_type": "code",
      "source": [
        "# Instances as attributes\n",
        "class Battery():\n",
        "  \"\"\"A battery for an electric car.\"\"\"\n",
        "\n",
        "  def __init__(self,size = 70):\n",
        "    \"\"\"Initialize battery attributes\"\"\"\n",
        "    self.size = size\n",
        "    self.charge_level = 0\n",
        "\n",
        "  def get_range(self):\n",
        "    \"\"\"Return the battery's range.\"\"\"\n",
        "    if self.size == 70:\n",
        "      return 240\n",
        "    elif self.size == 85:\n",
        "      return 270\n"
      ],
      "metadata": {
        "id": "QHtA7XvbVf_f"
      },
      "execution_count": 13,
      "outputs": []
    },
    {
      "cell_type": "code",
      "source": [
        "class ElectricCar(Car):\n",
        "  \"\"\"A simple model of an electric car.\"\"\"\n",
        "\n",
        "  def __init__(self, make, model, year):\n",
        "    \"\"\"Initialize an electric car\"\"\"\n",
        "    super().__init__(make,model,year)\n",
        "\n",
        "    # Attributes specific to electric cars.\n",
        "    # Battery capacity in kWh.\n",
        "    #self.battery_size = 79\n",
        "    self.battery = Battery()\n",
        "    # Charge level in %\n",
        "    self.charge_level = 0\n",
        "\n",
        "  # Adding new method to the child class\n",
        "  def charge(self):\n",
        "    \"\"\"Fully charge the vehicle.\"\"\"\n",
        "    #self.charge_level = 100\n",
        "    self.battery.charge_level = 100\n",
        "    print(\"The vehicle is fully charged.\")\n",
        "\n",
        "  # Overriding parent methods\n",
        "  def fill_tank(self):\n",
        "    print(\"This car has no fuel tank!\")\n",
        "\n",
        "\n",
        "# Using child method and parent methods\n",
        "\n",
        "my_ecar = ElectricCar('tesla', 'modle s', 2016)\n",
        "\n",
        "my_ecar.charge()\n",
        "my_ecar.drive()\n",
        "my_ecar.fill_tank()\n",
        "\n",
        "print(my_ecar.battery.get_range())"
      ],
      "metadata": {
        "id": "3Ydx3A5USIB7",
        "outputId": "3bbe3553-386e-4f27-8096-ad0ebb449665",
        "colab": {
          "base_uri": "https://localhost:8080/"
        }
      },
      "execution_count": 14,
      "outputs": [
        {
          "output_type": "stream",
          "name": "stdout",
          "text": [
            "The vehicle is fully charged.\n",
            "The car is moving.\n",
            "This car has no fuel tank!\n",
            "240\n"
          ]
        }
      ]
    },
    {
      "cell_type": "code",
      "source": [
        "# Storing objects in a list\n",
        "\n",
        "gas_fleet = []\n",
        "electric_fleet = []\n",
        "\n",
        "# Make 10 gas car and 5 electric cars.\n",
        "\n",
        "for _ in range(10):\n",
        "  car = Car('ford', 'focus', 2016)\n",
        "  gas_fleet.append(car)\n",
        "\n",
        "for _ in range(5):\n",
        "  ecar = ElectricCar('nissan', 'leaf', 2016)\n",
        "  electric_fleet.append(ecar)\n",
        "\n",
        "#Fill the gas cars, and charge electric cars.\n",
        "for car in gas_fleet:\n",
        "  car.fill_tank()\n",
        "\n",
        "for ecar in electric_fleet:\n",
        "  ecar.charge()\n",
        "\n",
        "print(\"Gas cars:\", len(gas_fleet))\n",
        "print(\"Electric cars:\", len(electric_fleet))"
      ],
      "metadata": {
        "id": "gCweWs_oYCvZ",
        "outputId": "c0875486-c39f-48ae-8026-9a1463e971ea",
        "colab": {
          "base_uri": "https://localhost:8080/"
        }
      },
      "execution_count": 15,
      "outputs": [
        {
          "output_type": "stream",
          "name": "stdout",
          "text": [
            "Fuel tank is full.\n",
            "Fuel tank is full.\n",
            "Fuel tank is full.\n",
            "Fuel tank is full.\n",
            "Fuel tank is full.\n",
            "Fuel tank is full.\n",
            "Fuel tank is full.\n",
            "Fuel tank is full.\n",
            "Fuel tank is full.\n",
            "Fuel tank is full.\n",
            "The vehicle is fully charged.\n",
            "The vehicle is fully charged.\n",
            "The vehicle is fully charged.\n",
            "The vehicle is fully charged.\n",
            "The vehicle is fully charged.\n",
            "Gas cars: 10\n",
            "Electric cars: 5\n"
          ]
        }
      ]
    }
  ],
  "metadata": {
    "colab": {
      "name": "Begineer-Python-Functions.ipynb",
      "provenance": []
    },
    "kernelspec": {
      "display_name": "Python 3",
      "name": "python3"
    },
    "language_info": {
      "codemirror_mode": {
        "name": "ipython",
        "version": 3
      },
      "file_extension": ".py",
      "mimetype": "text/x-python",
      "name": "python",
      "nbconvert_exporter": "python",
      "pygments_lexer": "ipython3",
      "version": "3.9.0"
    },
    "orig_nbformat": 2
  },
  "nbformat": 4,
  "nbformat_minor": 0
}