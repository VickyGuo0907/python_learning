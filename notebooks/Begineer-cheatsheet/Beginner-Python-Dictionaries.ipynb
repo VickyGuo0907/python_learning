{
  "nbformat": 4,
  "nbformat_minor": 0,
  "metadata": {
    "orig_nbformat": 2,
    "colab": {
      "name": "Beginner-Python-Dictionaries.ipynb",
      "provenance": []
    },
    "language_info": {
      "name": "python"
    },
    "kernelspec": {
      "name": "python3",
      "display_name": "Python 3"
    }
  },
  "cells": [
    {
      "cell_type": "markdown",
      "metadata": {
        "id": "IVj2YGShXTuM"
      },
      "source": [
        "# Begineer's Python Cheat Sheet -- Dictionaries\n",
        "\n",
        "## What are dictionaries?\n",
        "Python's dictionaries allow you to connect pieces of related information. Each piece of information in a dictionary is stored as a key-value pair. When you provide a key, Python returns the value assoicated with that key. You can loop through all the key-value pairs, all the keys, or all the values.\n",
        "\n",
        "## Defining a dictionary\n",
        "Use curly braces to define a dictionary. Use colons to connect keys and values, and use commas to separate individual key-value pairs."
      ]
    },
    {
      "cell_type": "code",
      "metadata": {
        "id": "TLbTDDiuXx98"
      },
      "source": [
        "# Making a dictionary \n",
        "alien_0 = {'color': 'green', 'points': 5}\n"
      ],
      "execution_count": null,
      "outputs": []
    },
    {
      "cell_type": "markdown",
      "metadata": {
        "id": "a1In9kpyX2_W"
      },
      "source": [
        "## Accessing values\n",
        "To access the value associated with an individual key give the name of the dictionary and then place the key in a set of square branckes. If the key you're asking for is not in the dictionary, an error will occur.\n",
        "\n",
        "You can also use the get() method, which returns None instead of an error if the key doesn't exist. You can also specify a default value to use if the key is not in the dictionary. "
      ]
    },
    {
      "cell_type": "code",
      "metadata": {
        "id": "Ej-2fu0bZgW6",
        "colab": {
          "base_uri": "https://localhost:8080/"
        },
        "outputId": "3c194f1b-26b7-4cd6-b5f6-45046b1de162"
      },
      "source": [
        "# Getting the value associated with a key\n",
        "alien_0 = {'color': 'green', 'points': 5}\n",
        "print(alien_0['color'])\n",
        "print(alien_0['points'])\n",
        "\n",
        "# Getting the value with get()\n",
        "alien_0 = {'color': 'green'}\n",
        "alien_color = alien_0.get('color')\n",
        "alien_points = alien_0.get('points', 0)\n",
        "print(alien_color)\n",
        "print(alien_points)"
      ],
      "execution_count": null,
      "outputs": [
        {
          "output_type": "stream",
          "text": [
            "green\n",
            "5\n",
            "green\n",
            "0\n"
          ],
          "name": "stdout"
        }
      ]
    },
    {
      "cell_type": "markdown",
      "metadata": {
        "id": "hujM9_rLaO6g"
      },
      "source": [
        "## Adding New key-value pairs\n",
        "You can store as many key-value pairs as you want in a dictionary, until your computer runs out of memory. To add a new key-value pair to an existing dictionary give the name of the dictionary and the new key in square brackets, and set it equal to the new value.\n",
        "This also allows you to start with an empty dictionary and add key-value pairs as they become relevant."
      ]
    },
    {
      "cell_type": "code",
      "metadata": {
        "id": "11kLsTmFd224",
        "colab": {
          "base_uri": "https://localhost:8080/"
        },
        "outputId": "1a18ba2c-a09e-4c41-ffb3-170c1fe4d601"
      },
      "source": [
        "# Adding a key-value pair\n",
        "alien_0 = {'color': 'green', 'points': 5}\n",
        "\n",
        "alien_0['x'] = 0\n",
        "alien_0['y'] = 25\n",
        "alien_0['speed'] = 1.5\n",
        "print(alien_0)\n",
        "\n",
        "# Adding to an empty dictionary\n",
        "alien_0 = {}\n",
        "alien_0['color'] = 'green'\n",
        "alien_0['point'] = 5\n",
        "print(alien_0)"
      ],
      "execution_count": null,
      "outputs": [
        {
          "output_type": "stream",
          "text": [
            "{'color': 'green', 'points': 5, 'x': 0, 'y': 25, 'speed': 1.5}\n",
            "{'color': 'green', 'point': 5}\n"
          ],
          "name": "stdout"
        }
      ]
    },
    {
      "cell_type": "markdown",
      "metadata": {
        "id": "INtOGFste822"
      },
      "source": [
        "## Modifying values\n",
        "You can modify the value associated with any key in a dictionary. To do so give the name of the dictionary and enclose the key in square brackets, then provide the new value for that key. "
      ]
    },
    {
      "cell_type": "code",
      "metadata": {
        "id": "d1iUZamPfLoy",
        "colab": {
          "base_uri": "https://localhost:8080/"
        },
        "outputId": "22717eea-0004-452c-f4a0-438adb4db51d"
      },
      "source": [
        "# Modifying values in a dictionary\n",
        "alien_0 = {'color':'green', 'point': 5}\n",
        "print(alien_0)\n",
        "\n",
        "# Change the alien's color and point value.\n",
        "alien_0['color'] = 'yellow'\n",
        "alien_0['points'] = 10\n",
        "print(alien_0)"
      ],
      "execution_count": null,
      "outputs": [
        {
          "output_type": "stream",
          "text": [
            "{'color': 'green', 'point': 5}\n",
            "{'color': 'yellow', 'point': 5, 'points': 10}\n"
          ],
          "name": "stdout"
        }
      ]
    },
    {
      "cell_type": "markdown",
      "metadata": {
        "id": "PUUS2pd8ga1B"
      },
      "source": [
        "## Removing key-value pairs\n",
        "You can remove any key-value pair you want from a dictionary. To do so use the del keyword and the dictionary name, followed by the key in square brackets. This will delete the key and its associated value.\n"
      ]
    },
    {
      "cell_type": "code",
      "metadata": {
        "id": "dqz-76ORhhZz",
        "outputId": "f609c894-27cc-46a2-e5c4-8ffffa2ebe43",
        "colab": {
          "base_uri": "https://localhost:8080/"
        }
      },
      "source": [
        "# Deleting a key-value pair\n",
        "alien_0 = {'color': 'green', 'points': 5}\n",
        "print(alien_0)\n",
        "\n",
        "del alien_0['points']\n",
        "print(alien_0)"
      ],
      "execution_count": 4,
      "outputs": [
        {
          "output_type": "stream",
          "text": [
            "{'color': 'green', 'points': 5}\n",
            "{'color': 'green'}\n"
          ],
          "name": "stdout"
        }
      ]
    },
    {
      "cell_type": "markdown",
      "metadata": {
        "id": "TzaxOV7shzLa"
      },
      "source": [
        "## Looping through a dictionary\n",
        "You can loop through a dictionary in three ways: you can loop through all the key-value pairs, all the keys, or all the values.\n",
        "A dictionary only tracks the connections between keys and values; it doesn't track the order of items in the dictionary. If you want to process the information in order, you can sort the keys in your loop."
      ]
    },
    {
      "cell_type": "code",
      "metadata": {
        "id": "7aik0y9siit2",
        "outputId": "7992420a-8f64-4263-f969-9bbcca3f604f",
        "colab": {
          "base_uri": "https://localhost:8080/"
        }
      },
      "source": [
        "# Looping through all key-value pairs\n",
        "# Store people's favoriate languages.\n",
        "fav_languages = {\n",
        "    'jen': 'python',\n",
        "    'sarah': 'c', \n",
        "    'edward': 'ruby',\n",
        "    'phil': 'python',\n",
        "}\n",
        "\n",
        "# Show each person's favorite language.\n",
        "for name, language in fav_languages.items():\n",
        "  print(name + \": \" + language)\n",
        "\n",
        "# Looping through all the keys\n",
        "for name in fav_languages.keys():\n",
        "  print(name)\n",
        "\n",
        "# Lopping throught all the values\n",
        "for language in fav_languages.values():\n",
        "  print(language)\n",
        "\n",
        "# Looping through all the keys in order\n",
        "# Show each person's favorite language, in order by the person's name.\n",
        "for name in sorted(fav_languages.keys()):\n",
        "  print(name + \": \" + fav_languages[name])"
      ],
      "execution_count": 15,
      "outputs": [
        {
          "output_type": "stream",
          "text": [
            "jen: python\n",
            "sarah: c\n",
            "edward: ruby\n",
            "phil: python\n",
            "jen\n",
            "sarah\n",
            "edward\n",
            "phil\n",
            "python\n",
            "c\n",
            "ruby\n",
            "python\n",
            "edward: ruby\n",
            "jen: python\n",
            "phil: python\n",
            "sarah: c\n"
          ],
          "name": "stdout"
        }
      ]
    },
    {
      "cell_type": "markdown",
      "metadata": {
        "id": "AO2JlbRyltkC"
      },
      "source": [
        "## Dictionary length\n",
        "You can find the number of key-value pairs in a dictionary."
      ]
    },
    {
      "cell_type": "code",
      "metadata": {
        "id": "LayTQUnFl1Mu",
        "outputId": "3d51d718-d50a-40ca-91a9-3db63d2c8153",
        "colab": {
          "base_uri": "https://localhost:8080/"
        }
      },
      "source": [
        "# Finding a dictionary's length\n",
        "num_responses = len(fav_languages)\n",
        "print(num_responses)"
      ],
      "execution_count": 18,
      "outputs": [
        {
          "output_type": "stream",
          "text": [
            "4\n"
          ],
          "name": "stdout"
        }
      ]
    },
    {
      "cell_type": "markdown",
      "metadata": {
        "id": "Docui2r_mCKF"
      },
      "source": [
        "## Nesting -- A list of dictionaries\n",
        "It's sometimes useful to store a set of dictionaries in a list; this is called nesting"
      ]
    },
    {
      "cell_type": "code",
      "metadata": {
        "id": "qH-Lwfb0mSuZ",
        "outputId": "8b321719-5f58-43b1-f050-dd638cd86142",
        "colab": {
          "base_uri": "https://localhost:8080/"
        }
      },
      "source": [
        "# Sorting dictionaries in a list\n",
        "# Start with an empty list.\n",
        "users = []\n",
        "\n",
        "# Make a new user, and add them to the list. \n",
        "new_user = {\n",
        "    'last': 'fermi',\n",
        "    'first': 'enrico',\n",
        "    'username': 'efermi',\n",
        "}\n",
        "users.append(new_user)\n",
        "\n",
        "# Make another new user, and add them as well.\n",
        "new_user = {\n",
        "    'last': 'fermi',\n",
        "    'first': 'enrico',\n",
        "    'username': 'mcurie',\n",
        "}\n",
        "users.append(new_user)\n",
        "\n",
        "# Show all inforamtion about each users.\n",
        "for user_dict in users:\n",
        "  for k, v in user_dict.items():\n",
        "    print(k + \": \" + v)\n",
        "  print(\"\\n\")\n",
        "\n",
        "\n",
        "# You can also define a list of dictionaries directly, without using append():\n",
        "\n",
        "# Define a list of users, where each user is represented by a dictionary.\n",
        "\n",
        "users = [\n",
        "    {\n",
        "        'last':'fermi',\n",
        "        'first': 'enrico',\n",
        "        'username': 'efermi',\n",
        "    \n",
        "    },\n",
        "    {\n",
        "        'last':'curie',\n",
        "        'first': 'marie',\n",
        "        'username': 'mcurie',\n",
        "    \n",
        "    },\n",
        "]\n",
        "\n",
        "# Show all information about each user. \n",
        "for user_dict in users:\n",
        "  for k, v in user_dict.items():\n",
        "    print(k + \": \" + v)\n",
        "  print(\"\\n\")\n"
      ],
      "execution_count": 22,
      "outputs": [
        {
          "output_type": "stream",
          "text": [
            "last: fermi\n",
            "first: enrico\n",
            "username: efermi\n",
            "\n",
            "\n",
            "last: fermi\n",
            "first: enrico\n",
            "username: mcurie\n",
            "\n",
            "\n",
            "last: fermi\n",
            "first: enrico\n",
            "username: efermi\n",
            "\n",
            "\n",
            "last: curie\n",
            "first: marie\n",
            "username: mcurie\n",
            "\n",
            "\n"
          ],
          "name": "stdout"
        }
      ]
    },
    {
      "cell_type": "markdown",
      "metadata": {
        "id": "nFmwE1zWndZ_"
      },
      "source": [
        "## Nesting -- Lists in a dictionary\n",
        "Storing a list inside a dictionary allows you to associate more than one value with each key. "
      ]
    },
    {
      "cell_type": "code",
      "metadata": {
        "id": "ySx-DWklot2i",
        "outputId": "249cc89c-0b41-4ac2-d4f2-3b3c4a8cffea",
        "colab": {
          "base_uri": "https://localhost:8080/"
        }
      },
      "source": [
        "# Storing lists in a dictionary\n",
        "# Store multiple languages for each person.\n",
        "fav_languages = {\n",
        "    'jen': ['python', 'ruby'],\n",
        "    'sarah': ['c'],\n",
        "    'edward': ['ruby', 'go'],\n",
        "    'phil': ['python', 'haskell'],\n",
        "}\n",
        "\n",
        "# Show all responses for each person.\n",
        "for name, langs in fav_languages.items():\n",
        "  print(name + \": \")\n",
        "  for lang in langs:\n",
        "    print(\"- \" + lang)\n"
      ],
      "execution_count": 23,
      "outputs": [
        {
          "output_type": "stream",
          "text": [
            "jen: \n",
            "- python\n",
            "- ruby\n",
            "sarah: \n",
            "- c\n",
            "edward: \n",
            "- ruby\n",
            "- go\n",
            "phil: \n",
            "- python\n",
            "- haskell\n"
          ],
          "name": "stdout"
        }
      ]
    },
    {
      "cell_type": "markdown",
      "metadata": {
        "id": "KkXZNulUp0w4"
      },
      "source": [
        "## Nesting -- A dictionary of dictionaries\n",
        "You can store a dictionary inside another dictionary. In this case each value associated with a key is itself a dictionary."
      ]
    },
    {
      "cell_type": "code",
      "metadata": {
        "id": "hX1ciiodqC2R",
        "outputId": "88805b6b-54a6-437b-81d6-ae105449c22f",
        "colab": {
          "base_uri": "https://localhost:8080/"
        }
      },
      "source": [
        "# Storing dictionaries in a dictionary\n",
        "\n",
        "users = {\n",
        "    'aeinstein': {\n",
        "        'first': 'albert',\n",
        "        'last': 'einstein',\n",
        "        'location': 'princeton',\n",
        "    },\n",
        "    'mcurie': {\n",
        "        'first': 'marie',\n",
        "        'last': 'curie',\n",
        "        'location': 'paris',\n",
        "    },\n",
        "}\n",
        "\n",
        "for user_name, user_dict in users.items():\n",
        "  print(\"\\nUsername: \" + user_name)\n",
        "  full_name = user_dict['first'] + \" \"\n",
        "  full_name += user_dict['last']\n",
        "  location = user_dict['location']\n",
        "\n",
        "  print(\"\\tFull name: \" + full_name.title())\n",
        "  print(\"\\tLocation: \" + location.title())"
      ],
      "execution_count": 25,
      "outputs": [
        {
          "output_type": "stream",
          "text": [
            "\n",
            "Username: aeinstein\n",
            "\tFull name: Albert Einstein\n",
            "\tLocation: Princeton\n",
            "\n",
            "Username: mcurie\n",
            "\tFull name: Marie Curie\n",
            "\tLocation: Paris\n"
          ],
          "name": "stdout"
        }
      ]
    },
    {
      "cell_type": "markdown",
      "metadata": {
        "id": "IY9LFB1yrb5n"
      },
      "source": [
        "## Levels of nesting \n",
        "Nesting is extremely useful in certain situations. However, be aware of making your code overly complex. If you're nesting items much deeper than what you see here there are probably simpler ways of managing your data, such as using classes.\n",
        "\n",
        "## Using an OrderedDict\n",
        "Standard Python dictionaries don't keep track of the order in which keys and values are added. they only preserve the association between each key and its value. If you want to preserve the order in which keys and values are added. use an OrderedDict."
      ]
    },
    {
      "cell_type": "code",
      "metadata": {
        "id": "Bwj5gk-KsaK1",
        "outputId": "53f715cc-e480-45b7-ec3b-0399e15cf4fd",
        "colab": {
          "base_uri": "https://localhost:8080/"
        }
      },
      "source": [
        "# Preserving the order of keys and values\n",
        "from collections import OrderedDict\n",
        "\n",
        "# Store each person's languages, keep track of who responded first.\n",
        "fav_languages = OrderedDict()\n",
        "\n",
        "fav_languages['jen'] = ['python', 'ruby']\n",
        "fav_languages['sarah'] = ['c']\n",
        "fav_languages['edward'] = ['ruby', 'go']\n",
        "fav_languages['phil'] = ['python', 'haskell']\n",
        "\n",
        "# Display the results, in the same order they were entered.\n",
        "for name, langs in fav_languages.items():\n",
        "  print(name + \": \")\n",
        "  for lang in langs:\n",
        "    print(\"- \" + lang)"
      ],
      "execution_count": 26,
      "outputs": [
        {
          "output_type": "stream",
          "text": [
            "jen: \n",
            "- python\n",
            "- ruby\n",
            "sarah: \n",
            "- c\n",
            "edward: \n",
            "- ruby\n",
            "- go\n",
            "phil: \n",
            "- python\n",
            "- haskell\n"
          ],
          "name": "stdout"
        }
      ]
    },
    {
      "cell_type": "markdown",
      "metadata": {
        "id": "OC5iMHvZtQ8x"
      },
      "source": [
        "## Generating a million dictionaries\n",
        "You can use a loop to generate a large number of dictionaries efficiently, if all the dictionaries start out with similar data."
      ]
    },
    {
      "cell_type": "code",
      "metadata": {
        "id": "KVUJQwn2teZq",
        "outputId": "09daf539-e77f-48ff-9586-dc3cfc1da71a",
        "colab": {
          "base_uri": "https://localhost:8080/"
        }
      },
      "source": [
        "# A million aliens\n",
        "aliens = []\n",
        "\n",
        "# Make a million green aliens, worth 5 points each. have them all start in one row. \n",
        "\n",
        "for alien_num in range(1000000):\n",
        "  new_alien = {}\n",
        "  new_alien['color'] = 'green'\n",
        "  new_alien['points'] = 5\n",
        "  new_alien['x'] = 20* alien_num\n",
        "  new_alien['y'] = 0\n",
        "  aliens.append(new_alien)\n",
        "\n",
        "# prove the list contains a million aliens.\n",
        "num_aliens = len(aliens)\n",
        "\n",
        "print(\"Number of aliens created: \")\n",
        "print(num_aliens)"
      ],
      "execution_count": 27,
      "outputs": [
        {
          "output_type": "stream",
          "text": [
            "Number of aliens created: \n",
            "1000000\n"
          ],
          "name": "stdout"
        }
      ]
    }
  ]
}