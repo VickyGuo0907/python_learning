{
  "nbformat": 4,
  "nbformat_minor": 0,
  "metadata": {
    "orig_nbformat": 2,
    "colab": {
      "name": "Beginner-Python-Dictionaries.ipynb",
      "provenance": []
    },
    "language_info": {
      "name": "python"
    },
    "kernelspec": {
      "name": "python3",
      "display_name": "Python 3"
    }
  },
  "cells": [
    {
      "cell_type": "markdown",
      "metadata": {
        "id": "IVj2YGShXTuM"
      },
      "source": [
        "# Begineer's Python Cheat Sheet -- Dictionaries\n",
        "\n",
        "## What are dictionaries?\n",
        "Python's dictionaries allow you to connect pieces of related information. Each piece of information in a dictionary is stored as a key-value pair. When you provide a key, Python returns the value assoicated with that key. You can loop through all the key-value pairs, all the keys, or all the values.\n",
        "\n",
        "## Defining a dictionary\n",
        "Use curly braces to define a dictionary. Use colons to connect keys and values, and use commas to separate individual key-value pairs."
      ]
    },
    {
      "cell_type": "code",
      "metadata": {
        "id": "TLbTDDiuXx98"
      },
      "source": [
        "# Making a dictionary \n",
        "alien_0 = {'color': 'green', 'points': 5}\n"
      ],
      "execution_count": null,
      "outputs": []
    },
    {
      "cell_type": "markdown",
      "metadata": {
        "id": "a1In9kpyX2_W"
      },
      "source": [
        "## Accessing values\n",
        "To access the value associated with an individual key give the name of the dictionary and then place the key in a set of square branckes. If the key you're asking for is not in the dictionary, an error will occur.\n",
        "\n",
        "You can also use the get() method, which returns None instead of an error if the key doesn't exist. You can also specify a default value to use if the key is not in the dictionary. "
      ]
    },
    {
      "cell_type": "code",
      "metadata": {
        "id": "Ej-2fu0bZgW6",
        "outputId": "3c194f1b-26b7-4cd6-b5f6-45046b1de162",
        "colab": {
          "base_uri": "https://localhost:8080/"
        }
      },
      "source": [
        "# Getting the value associated with a key\n",
        "alien_0 = {'color': 'green', 'points': 5}\n",
        "print(alien_0['color'])\n",
        "print(alien_0['points'])\n",
        "\n",
        "# Getting the value with get()\n",
        "alien_0 = {'color': 'green'}\n",
        "alien_color = alien_0.get('color')\n",
        "alien_points = alien_0.get('points', 0)\n",
        "print(alien_color)\n",
        "print(alien_points)"
      ],
      "execution_count": 2,
      "outputs": [
        {
          "output_type": "stream",
          "text": [
            "green\n",
            "5\n",
            "green\n",
            "0\n"
          ],
          "name": "stdout"
        }
      ]
    },
    {
      "cell_type": "markdown",
      "metadata": {
        "id": "hujM9_rLaO6g"
      },
      "source": [
        "## Adding New key-value pairs\n",
        "You can store as many key-value pairs as you want in a dictionary, until your computer runs out of memory. To add a new key-value pair to an existing dictionary give the name of the dictionary and the new key in square brackets, and set it equal to the new value.\n",
        "This also allows you to start with an empty dictionary and add key-value pairs as they become relevant."
      ]
    },
    {
      "cell_type": "code",
      "metadata": {
        "id": "11kLsTmFd224",
        "outputId": "1a18ba2c-a09e-4c41-ffb3-170c1fe4d601",
        "colab": {
          "base_uri": "https://localhost:8080/"
        }
      },
      "source": [
        "# Adding a key-value pair\n",
        "alien_0 = {'color': 'green', 'points': 5}\n",
        "\n",
        "alien_0['x'] = 0\n",
        "alien_0['y'] = 25\n",
        "alien_0['speed'] = 1.5\n",
        "print(alien_0)\n",
        "\n",
        "# Adding to an empty dictionary\n",
        "alien_0 = {}\n",
        "alien_0['color'] = 'green'\n",
        "alien_0['point'] = 5\n",
        "print(alien_0)"
      ],
      "execution_count": 2,
      "outputs": [
        {
          "output_type": "stream",
          "text": [
            "{'color': 'green', 'points': 5, 'x': 0, 'y': 25, 'speed': 1.5}\n",
            "{'color': 'green', 'point': 5}\n"
          ],
          "name": "stdout"
        }
      ]
    },
    {
      "cell_type": "markdown",
      "metadata": {
        "id": "INtOGFste822"
      },
      "source": [
        "## Modifying values\n",
        "You can modify the value associated with any key in a dictionary. To do so give the name of the dictionary and enclose the key in square brackets, then provide the new value for that key. "
      ]
    },
    {
      "cell_type": "code",
      "metadata": {
        "id": "d1iUZamPfLoy",
        "outputId": "22717eea-0004-452c-f4a0-438adb4db51d",
        "colab": {
          "base_uri": "https://localhost:8080/"
        }
      },
      "source": [
        "# Modifying values in a dictionary\n",
        "alien_0 = {'color':'green', 'point': 5}\n",
        "print(alien_0)\n",
        "\n",
        "# Change the alien's color and point value.\n",
        "alien_0['color'] = 'yellow'\n",
        "alien_0['points'] = 10\n",
        "print(alien_0)"
      ],
      "execution_count": 3,
      "outputs": [
        {
          "output_type": "stream",
          "text": [
            "{'color': 'green', 'point': 5}\n",
            "{'color': 'yellow', 'point': 5, 'points': 10}\n"
          ],
          "name": "stdout"
        }
      ]
    },
    {
      "cell_type": "markdown",
      "metadata": {
        "id": "PUUS2pd8ga1B"
      },
      "source": [
        "## Removing key-value pairs\n",
        "You can remove any key-value pair you want from a dictionary. To do so use the del keyword and the dictionary name, followed by the key in square brackets. This will delete the key and its associated value.\n"
      ]
    }
  ]
}