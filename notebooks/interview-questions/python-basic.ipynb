{
 "metadata": {
  "language_info": {
   "codemirror_mode": {
    "name": "ipython",
    "version": 3
   },
   "file_extension": ".py",
   "mimetype": "text/x-python",
   "name": "python",
   "nbconvert_exporter": "python",
   "pygments_lexer": "ipython3",
   "version": "3.9.1"
  },
  "orig_nbformat": 2,
  "kernelspec": {
   "name": "python391jvsc74a57bd033787643c8dd9e9b77d65f86a8ac7788125ae09374887583218521e79f60ba90",
   "display_name": "Python 3.9.1 64-bit"
  }
 },
 "nbformat": 4,
 "nbformat_minor": 2,
 "cells": [
  {
   "source": [
    "# Python Basic\n",
    "\n",
    "## file operation\n",
    "\n",
    "1. json formate file file.txt, size 10K "
   ],
   "cell_type": "markdown",
   "metadata": {}
  },
  {
   "cell_type": "code",
   "execution_count": null,
   "metadata": {},
   "outputs": [],
   "source": [
    "def get_lines():\n",
    "    with open('file.txt', 'rb') as f: \n",
    "        return f.readlines()\n",
    "\n",
    "if __name__ = '__main__':\n",
    "    for e in get_lines():\n",
    "        process(e) # process each line\n"
   ]
  },
  {
   "source": [
    "Need process file with 10G, there only have 4G memory. if only modify get_lines function, how to implement? \n"
   ],
   "cell_type": "markdown",
   "metadata": {}
  },
  {
   "cell_type": "code",
   "execution_count": null,
   "metadata": {},
   "outputs": [],
   "source": [
    "def get_lines():\n",
    "    with open('file.txt', 'rb') as f: \n",
    "        for i in f: \n",
    "            yield i\n",
    "\n"
   ]
  },
  {
   "source": [
    "configuration return lines"
   ],
   "cell_type": "markdown",
   "metadata": {}
  },
  {
   "cell_type": "code",
   "execution_count": null,
   "metadata": {},
   "outputs": [],
   "source": [
    "def get_lines():\n",
    "    l = []\n",
    "    with open('file.txt', 'rb') as f: \n",
    "        data = f.readlines(60000)\n",
    "    l.append(data)\n",
    "    yield l"
   ]
  },
  {
   "source": [
    "## Model and package\n",
    "\n",
    "3. input date, analysis which day of the year"
   ],
   "cell_type": "markdown",
   "metadata": {}
  },
  {
   "cell_type": "code",
   "execution_count": 8,
   "metadata": {},
   "outputs": [
    {
     "output_type": "stream",
     "name": "stdout",
     "text": [
      "which day of this year:66\n"
     ]
    }
   ],
   "source": [
    "import datetime\n",
    "def dayofyear():\n",
    "    year = input(\"Please input year: \")\n",
    "    month = input(\"Please input month: \")\n",
    "    day = input(\"please input day: \")\n",
    "\n",
    "    date1 = datetime.date(year=int(year), month=int(month), day=int(day))\n",
    "    date2 = datetime.date(year=int(year), month=1, day=1)\n",
    "    return (date1-date2).days + 1\n",
    "    \n",
    "print(\"which day of this year:\" +  str(dayofyear()))"
   ]
  },
  {
   "source": [
    "4. mess up the sorted list order"
   ],
   "cell_type": "markdown",
   "metadata": {}
  },
  {
   "cell_type": "code",
   "execution_count": 9,
   "metadata": {},
   "outputs": [
    {
     "output_type": "stream",
     "name": "stdout",
     "text": [
      "[3, 5, 2, 1, 4]\n"
     ]
    }
   ],
   "source": [
    "import random\n",
    "\n",
    "alist =[1,2,3,4,5]\n",
    "random.shuffle(alist)\n",
    "print(alist)"
   ]
  },
  {
   "cell_type": "code",
   "execution_count": null,
   "metadata": {},
   "outputs": [],
   "source": [
    "## data structure\n",
    "\n",
    "5. sort dictionary d = {'a': 24, 'g': 25, 'i' : 12, 'k': 33} based on value"
   ]
  },
  {
   "cell_type": "code",
   "execution_count": 10,
   "metadata": {},
   "outputs": [
    {
     "output_type": "stream",
     "name": "stdout",
     "text": [
      "orginal dictionary:  {'a': 24, 'g': 25, 'i': 12, 'k': 33}\n[('i', 12), ('a', 24), ('g', 25), ('k', 33)]\n"
     ]
    }
   ],
   "source": [
    "d = {'a': 24, 'g': 25, 'i' : 12, 'k': 33}\n",
    "print(\"orginal dictionary: \", d)\n",
    "\n",
    "print(sorted(d.items(), key=lambda x: x[1]))"
   ]
  },
  {
   "source": [
    "\n"
   ],
   "cell_type": "markdown",
   "metadata": {}
  },
  {
   "cell_type": "code",
   "execution_count": 18,
   "metadata": {},
   "outputs": [
    {
     "output_type": "stream",
     "name": "stdout",
     "text": [
      "{1: 'a', 3: 'c', 4: 'd', 2: 'b'}\n"
     ]
    }
   ],
   "source": [
    "## 6. iteration dictionary\n",
    "iterable = {(1,'a'), (2, 'b'), (3, 'c'), (4,'d')}\n",
    "\n",
    "d = {key: value for (key, value) in iterable}\n",
    "\n",
    "print(d)"
   ]
  },
  {
   "source": [
    "## 7.  reverse string \"aStr\" \n",
    "print(\"12345\"[::-1])"
   ],
   "cell_type": "code",
   "metadata": {},
   "execution_count": 27,
   "outputs": [
    {
     "output_type": "stream",
     "name": "stdout",
     "text": [
      "54321\n"
     ]
    }
   ]
  },
  {
   "cell_type": "code",
   "execution_count": 39,
   "metadata": {},
   "outputs": [
    {
     "output_type": "stream",
     "name": "stdout",
     "text": [
      "{'k': '1', 'K1': '2', 'k2': '3', 'k3': '4'}\n{'k': 1, 'K1': 2, 'k2': 3, 'k3': 4}\n"
     ]
    }
   ],
   "source": [
    "## 8. format string \"k:1|k1:2|k2:3|k3:4\", convert to dictionary {k:1, k1:2, ...}\n",
    "\n",
    "str1 = \"k:1|K1:2|k2:3|k3:4\"\n",
    "\n",
    "def str2dict(str1):\n",
    "    dict1 = {}\n",
    "    for items in str1.split('|'):\n",
    "        key,value = items.split(':')\n",
    "        dict1[key] = value\n",
    "    return dict1\n",
    "\n",
    "d ={k: int(v) for t in str1.split(\"|\") for k, v in (t.split(\":\"), )}\n",
    "\n",
    "print(str2dict(str1))\n",
    "print(d)"
   ]
  },
  {
   "cell_type": "code",
   "execution_count": 46,
   "metadata": {},
   "outputs": [
    {
     "output_type": "stream",
     "name": "stdout",
     "text": [
      "[{'name': 'b', 'age': 30}, {'name': 'c', 'age': 25}, {'name': 'a', 'age': 20}]\n"
     ]
    }
   ],
   "source": [
    "## 9. sort by age in one list\n",
    "\n",
    "alist =[{'name':'a', 'age':20},{'name':'b', 'age':30}, {'name':'c', 'age':25}]\n",
    "\n",
    "def sort_by_age(list1):\n",
    "    return(sorted(list1, key=lambda x:x['age'], reverse=True))\n",
    "\n",
    "print(sort_by_age(alist))"
   ]
  },
  {
   "cell_type": "code",
   "execution_count": 47,
   "metadata": {},
   "outputs": [
    {
     "output_type": "stream",
     "name": "stdout",
     "text": [
      "{3}\n{1, 2, 4, 5}\n"
     ]
    }
   ],
   "source": [
    "## 12. give two list, how to find same items and different items\n",
    "\n",
    "list1 = [1, 2, 3]\n",
    "list2 = [3, 4, 5]\n",
    "set1 = set(list1)\n",
    "set2 = set(list2)\n",
    "print(set1 & set2)\n",
    "print(set1 ^ set2)"
   ]
  },
  {
   "cell_type": "code",
   "execution_count": 50,
   "metadata": {},
   "outputs": [
    {
     "output_type": "stream",
     "name": "stdout",
     "text": [
      "['d', 'b', 'a', 'c']\n['b', 'c', 'd', 'a']\n"
     ]
    }
   ],
   "source": [
    "## 13.  delete repeat item in list\n",
    "\n",
    "l1 = ['b', 'c', 'd', 'c', 'a', 'a']\n",
    "l2 = list(set(l1))\n",
    "\n",
    "print(l2)\n",
    "\n",
    "## Another solution\n",
    "l1 = ['b', 'c', 'd', 'c', 'a', 'a']\n",
    "l2 = list(set(l1))\n",
    "l2.sort(key = l1.index)\n",
    "print(l2)"
   ]
  },
  {
   "cell_type": "code",
   "execution_count": null,
   "metadata": {},
   "outputs": [],
   "source": []
  }
 ]
}