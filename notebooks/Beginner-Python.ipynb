{
 "cells": [
  {
   "cell_type": "markdown",
   "metadata": {
    "id": "ncJTIp3yZ9kX"
   },
   "source": [
    "# Beginner's Python Cheat sheet\n",
    "\n",
    "### Variables and Strings\n",
    "\n",
    "variable are used to store values. A string is a series of characters, surrounded by single or doubel quotes\n",
    "\n",
    "**1. Hello world**"
   ]
  },
  {
   "cell_type": "code",
   "execution_count": null,
   "metadata": {
    "colab": {
     "base_uri": "https://localhost:8080/"
    },
    "id": "FzNeXRzHZ9kX",
    "outputId": "5714f7e7-fc4d-4f5b-b675-703b27732c01"
   },
   "outputs": [
    {
     "name": "stdout",
     "output_type": "stream",
     "text": [
      "Hello World!\n"
     ]
    }
   ],
   "source": [
    "print(\"Hello World!\")"
   ]
  },
  {
   "cell_type": "markdown",
   "metadata": {
    "id": "eY_jF5VTZ9kY"
   },
   "source": [
    "**2. Hello world with a variable**"
   ]
  },
  {
   "cell_type": "code",
   "execution_count": null,
   "metadata": {
    "id": "AUSz0StTZ9kY",
    "outputId": "db80832b-9d43-44d1-841c-cdafa836766f"
   },
   "outputs": [
    {
     "name": "stdout",
     "output_type": "stream",
     "text": [
      "Hello World!\n"
     ]
    }
   ],
   "source": [
    "msg = \"Hello World!\"\n",
    "print(msg)"
   ]
  },
  {
   "cell_type": "markdown",
   "metadata": {
    "id": "jOieqHjHZ9kY"
   },
   "source": [
    "**3. Concatenation (combining strings)**"
   ]
  },
  {
   "cell_type": "code",
   "execution_count": null,
   "metadata": {
    "colab": {
     "base_uri": "https://localhost:8080/"
    },
    "id": "Y_qTm85iZ9kY",
    "outputId": "bee3fccb-3d28-49b8-a209-3d00d8b591fa"
   },
   "outputs": [
    {
     "name": "stdout",
     "output_type": "stream",
     "text": [
      "albert einstein\n"
     ]
    }
   ],
   "source": [
    "first_name = 'albert'\n",
    "last_name = 'einstein'\n",
    "full_name = first_name + ' ' + last_name\n",
    "print(full_name)"
   ]
  },
  {
   "cell_type": "markdown",
   "metadata": {
    "id": "p88dDM6tZ9kY"
   },
   "source": [
    "### Lists\n",
    "A list stores a series of items in a particular order. You access items using an index, or within a loop.\n",
    "\n",
    "**1. Make a list**"
   ]
  },
  {
   "cell_type": "code",
   "execution_count": null,
   "metadata": {
    "id": "w0UozOA5Z9kY"
   },
   "outputs": [],
   "source": [
    "bikes = ['trek', 'redline', 'giant']"
   ]
  },
  {
   "cell_type": "markdown",
   "metadata": {
    "id": "VtFaesnvZ9kY"
   },
   "source": [
    "**2. Get the first item in a list**"
   ]
  },
  {
   "cell_type": "code",
   "execution_count": null,
   "metadata": {
    "colab": {
     "base_uri": "https://localhost:8080/"
    },
    "id": "mgFGTFZ0Z9kY",
    "outputId": "925ec2e3-13fa-4bf5-dc0a-81de9546afaf"
   },
   "outputs": [
    {
     "name": "stdout",
     "output_type": "stream",
     "text": [
      "trek\n"
     ]
    }
   ],
   "source": [
    "first_bike = bikes[0]\n",
    "print(first_bike)"
   ]
  },
  {
   "cell_type": "markdown",
   "metadata": {
    "id": "cSpH4Sv1Z9kY"
   },
   "source": [
    "**3. Get the last item in a list**"
   ]
  },
  {
   "cell_type": "code",
   "execution_count": null,
   "metadata": {
    "colab": {
     "base_uri": "https://localhost:8080/"
    },
    "id": "bVFk1HNYZ9kY",
    "outputId": "764a9c6f-9f3a-450f-bc44-15f2c0620ce3"
   },
   "outputs": [
    {
     "name": "stdout",
     "output_type": "stream",
     "text": [
      "giant\n"
     ]
    }
   ],
   "source": [
    "last_bike = bikes[-1]\n",
    "print(last_bike)"
   ]
  },
  {
   "cell_type": "markdown",
   "metadata": {
    "id": "cwD1A5_bZ9kZ"
   },
   "source": [
    "**4. Looking through a list**"
   ]
  },
  {
   "cell_type": "code",
   "execution_count": null,
   "metadata": {
    "colab": {
     "base_uri": "https://localhost:8080/"
    },
    "id": "7-G5OE1wZ9kZ",
    "outputId": "11e0cd2d-bad3-4faa-a978-7d99bae533c7"
   },
   "outputs": [
    {
     "name": "stdout",
     "output_type": "stream",
     "text": [
      "trek\n",
      "redline\n",
      "giant\n"
     ]
    }
   ],
   "source": [
    "for bike in bikes:\n",
    "    print(bike)"
   ]
  },
  {
   "cell_type": "markdown",
   "metadata": {
    "id": "T_wQOJB9Z9kZ"
   },
   "source": [
    "**5. Adding items to a list**"
   ]
  },
  {
   "cell_type": "code",
   "execution_count": null,
   "metadata": {
    "colab": {
     "base_uri": "https://localhost:8080/"
    },
    "id": "miGbk1A5Z9kZ",
    "outputId": "da74cd79-fc89-4e48-ffa1-5cee64eecdf0"
   },
   "outputs": [
    {
     "name": "stdout",
     "output_type": "stream",
     "text": [
      "['trek', 'redline', 'giant']\n"
     ]
    }
   ],
   "source": [
    "bikes = []\n",
    "bikes.append('trek')\n",
    "bikes.append('redline')\n",
    "bikes.append('giant')\n",
    "print(bikes)"
   ]
  },
  {
   "cell_type": "markdown",
   "metadata": {
    "id": "VTMZEOXpbFPb"
   },
   "source": [
    "**6. Making numberical lists**"
   ]
  },
  {
   "cell_type": "code",
   "execution_count": null,
   "metadata": {
    "colab": {
     "base_uri": "https://localhost:8080/"
    },
    "id": "GLF1rKgIZ9kZ",
    "outputId": "1cbe9036-2dd1-4931-9a14-33c0d69e0449"
   },
   "outputs": [
    {
     "name": "stdout",
     "output_type": "stream",
     "text": [
      "[1, 4, 9, 16, 25, 36, 49, 64, 81, 100]\n"
     ]
    }
   ],
   "source": [
    "squares = []\n",
    "for x in range(1, 11):\n",
    "  squares.append(x**2)\n",
    "print(squares)"
   ]
  },
  {
   "cell_type": "markdown",
   "metadata": {
    "id": "YQdF8WuabVkQ"
   },
   "source": [
    "### Lists (cont.)\n",
    "\n",
    "**1. List comprehensions**"
   ]
  },
  {
   "cell_type": "code",
   "execution_count": null,
   "metadata": {
    "colab": {
     "base_uri": "https://localhost:8080/"
    },
    "id": "qv4crm4LbjYg",
    "outputId": "6028bb81-1eb6-43f2-8571-7de34d064786"
   },
   "outputs": [
    {
     "name": "stdout",
     "output_type": "stream",
     "text": [
      "[1, 4, 9, 16, 25, 36, 49, 64, 81, 100]\n"
     ]
    }
   ],
   "source": [
    "squares = [x**2 for x in range(1, 11)]\n",
    "print(squares)"
   ]
  },
  {
   "cell_type": "markdown",
   "metadata": {
    "id": "BBovb7X0cI9W"
   },
   "source": [
    "**2. Slicing a list**"
   ]
  },
  {
   "cell_type": "code",
   "execution_count": null,
   "metadata": {
    "colab": {
     "base_uri": "https://localhost:8080/"
    },
    "id": "ksHVH2Q8cNk2",
    "outputId": "d0cbfbb1-beaa-422e-8e7e-59b79b347098"
   },
   "outputs": [
    {
     "name": "stdout",
     "output_type": "stream",
     "text": [
      "['sam', 'bob']\n"
     ]
    }
   ],
   "source": [
    "finishers = ['sam', 'bob', 'ada', 'bea']\n",
    "first_two = finishers[:2]\n",
    "print(first_two)"
   ]
  },
  {
   "cell_type": "markdown",
   "metadata": {
    "id": "vxpwZsMPcc5M"
   },
   "source": [
    "**3. Copying a list**"
   ]
  },
  {
   "cell_type": "code",
   "execution_count": null,
   "metadata": {
    "colab": {
     "base_uri": "https://localhost:8080/"
    },
    "id": "Xg5L2F_jcfeS",
    "outputId": "bcb6f8da-9a2a-419a-bc5c-64030fc98dbe"
   },
   "outputs": [
    {
     "name": "stdout",
     "output_type": "stream",
     "text": [
      "['trek', 'redline', 'giant']\n"
     ]
    }
   ],
   "source": [
    "copy_of_bikes = bikes[:]\n",
    "print(copy_of_bikes)"
   ]
  },
  {
   "cell_type": "markdown",
   "metadata": {
    "id": "iItmktWPgEy1"
   },
   "source": [
    "### Tuples\n",
    "\n",
    "Truples are similar to lists. but the items in a tuple can't be modified."
   ]
  },
  {
   "cell_type": "code",
   "execution_count": null,
   "metadata": {
    "id": "lZSzSIsRjXAc"
   },
   "outputs": [],
   "source": [
    "dimensions = (1920,1080)"
   ]
  },
  {
   "cell_type": "markdown",
   "metadata": {
    "id": "l1RlW7Hijnnx"
   },
   "source": [
    "### If statements\n",
    "\n",
    "***1. Conditional tests***\n",
    "\n",
    "* equals                       x == 42\n",
    "* not equals                   x != 42\n",
    "* greater than                 x > 42\n",
    "* greater than or equal to     x >=42\n",
    "* less than                    x < 42\n",
    "* leas than or equral to       x <=42\n",
    "\n",
    "***2. Conditional test with lists***\n",
    "\n",
    "\n",
    "   "
   ]
  },
  {
   "cell_type": "code",
   "execution_count": null,
   "metadata": {
    "colab": {
     "base_uri": "https://localhost:8080/"
    },
    "id": "v7WBSV5Bjv1X",
    "outputId": "d8eb8966-48ae-4d62-913a-94dff01fba67"
   },
   "outputs": [
    {
     "data": {
      "text/plain": [
       "True"
      ]
     },
     "execution_count": 15,
     "metadata": {
      "tags": []
     },
     "output_type": "execute_result"
    }
   ],
   "source": [
    "'trek' in bikes"
   ]
  },
  {
   "cell_type": "code",
   "execution_count": null,
   "metadata": {
    "colab": {
     "base_uri": "https://localhost:8080/"
    },
    "id": "Llg58kVQk6ys",
    "outputId": "d9f5edf9-7501-4d0e-b22d-2e3b63ef8f67"
   },
   "outputs": [
    {
     "data": {
      "text/plain": [
       "True"
      ]
     },
     "execution_count": 16,
     "metadata": {
      "tags": []
     },
     "output_type": "execute_result"
    }
   ],
   "source": [
    "'surly' not in bikes"
   ]
  },
  {
   "cell_type": "markdown",
   "metadata": {
    "id": "deNYjWVuhIpW"
   },
   "source": [
    "**3. Assigning boolean values**\n",
    "\n",
    "game_active = True\n",
    "\n",
    "can_edit = False"
   ]
  },
  {
   "cell_type": "markdown",
   "metadata": {
    "id": "7Z7c97qLjvRn"
   },
   "source": [
    "**4. A simple if test**\n"
   ]
  },
  {
   "cell_type": "code",
   "execution_count": 2,
   "metadata": {
    "id": "edY9LLrCj3Ur"
   },
   "outputs": [],
   "source": [
    "age = 16\n",
    "\n",
    "if age >= 18: \n",
    "  print(\"You can vote!\")\n"
   ]
  },
  {
   "cell_type": "markdown",
   "metadata": {
    "id": "Joyz5g8XkBQl"
   },
   "source": [
    "**5. If-elif-else statements**"
   ]
  },
  {
   "cell_type": "code",
   "execution_count": null,
   "metadata": {
    "id": "6i0sHQrQkLWI"
   },
   "outputs": [],
   "source": [
    "if age < 4: \n",
    "  ticket_price = 0\n",
    "elif age < 18: \n",
    "  ticket_price = 10\n",
    "else:\n",
    "  ticket_price = 15\n"
   ]
  },
  {
   "cell_type": "markdown",
   "metadata": {
    "id": "1QKy9U6vk6Cz"
   },
   "source": [
    "### Dictionaries\n",
    "\n",
    "Dictionaries store connections between pieces of information. Each item in dictionaryis a key-value pair.\n",
    "\n",
    "**1. simple dictionary**"
   ]
  },
  {
   "cell_type": "code",
   "execution_count": 3,
   "metadata": {
    "colab": {
     "base_uri": "https://localhost:8080/"
    },
    "id": "VDvkEiQqmDKb",
    "outputId": "5f42be54-6b53-4a56-f169-1ccd99f0451d"
   },
   "outputs": [
    {
     "name": "stdout",
     "output_type": "stream",
     "text": [
      "{'color': 'green', 'points': 5}\n"
     ]
    }
   ],
   "source": [
    "alien = {'color': 'green', 'points': 5}\n",
    "print(alien)"
   ]
  },
  {
   "cell_type": "markdown",
   "metadata": {
    "id": "YUvRajrTmXbP"
   },
   "source": [
    "**2. Accessing a value**\n"
   ]
  },
  {
   "cell_type": "code",
   "execution_count": 4,
   "metadata": {
    "colab": {
     "base_uri": "https://localhost:8080/"
    },
    "id": "SPUEsNdDm8fO",
    "outputId": "b02adf94-4e57-4a8a-ab1b-6e399c23df1a"
   },
   "outputs": [
    {
     "name": "stdout",
     "output_type": "stream",
     "text": [
      "The alien's color is green\n"
     ]
    }
   ],
   "source": [
    "print(\"The alien's color is \" + alien['color'])"
   ]
  },
  {
   "cell_type": "markdown",
   "metadata": {
    "id": "C0ekt9wBnG1C"
   },
   "source": [
    "**3. Adding a new key-value pair**"
   ]
  },
  {
   "cell_type": "code",
   "execution_count": 5,
   "metadata": {
    "colab": {
     "base_uri": "https://localhost:8080/"
    },
    "id": "ylQ6irgYnK3M",
    "outputId": "70458ae4-e510-47ca-eb03-ec2331ea53ef"
   },
   "outputs": [
    {
     "name": "stdout",
     "output_type": "stream",
     "text": [
      "{'color': 'green', 'points': 5, 'x_position': 0}\n"
     ]
    }
   ],
   "source": [
    "alien['x_position'] = 0\n",
    "print(alien)"
   ]
  },
  {
   "cell_type": "markdown",
   "metadata": {
    "id": "0HseTplMnVVO"
   },
   "source": [
    "**4. Looping through all key-value pairs**"
   ]
  },
  {
   "cell_type": "code",
   "execution_count": 7,
   "metadata": {
    "colab": {
     "base_uri": "https://localhost:8080/"
    },
    "id": "KuUYXkFanZq8",
    "outputId": "40c46314-f61b-439f-85f7-fc387f1560ac"
   },
   "outputs": [
    {
     "name": "stdout",
     "output_type": "stream",
     "text": [
      "eric lovs 17\n",
      "ever lovs 4\n"
     ]
    }
   ],
   "source": [
    "fav_numbers = { 'eric': 17, 'ever':4}\n",
    "\n",
    "for name, number in fav_numbers.items():\n",
    "  print(name + ' lovs ' + str(number))"
   ]
  },
  {
   "cell_type": "markdown",
   "metadata": {
    "id": "srQv3xhqiIA5"
   },
   "source": [
    "**5. Looping through all keys**\n"
   ]
  },
  {
   "cell_type": "code",
   "execution_count": 8,
   "metadata": {
    "colab": {
     "base_uri": "https://localhost:8080/"
    },
    "id": "h0X8J3hDiOE3",
    "outputId": "09adaefa-6def-4457-fffb-f83678e16b41"
   },
   "outputs": [
    {
     "name": "stdout",
     "output_type": "stream",
     "text": [
      "ericloves a number\n",
      "everloves a number\n"
     ]
    }
   ],
   "source": [
    "fav_numbers = { 'eric': 17, 'ever':4}\n",
    "\n",
    "for name in fav_numbers.keys():\n",
    "  print(name + ' loves a number')"
   ]
  },
  {
   "cell_type": "markdown",
   "metadata": {
    "id": "mOCSdPOeid3I"
   },
   "source": [
    "**6. Looping through all the values**"
   ]
  },
  {
   "cell_type": "code",
   "execution_count": 9,
   "metadata": {
    "colab": {
     "base_uri": "https://localhost:8080/"
    },
    "id": "Bf_5khFHi99K",
    "outputId": "82030453-073b-4839-900d-c3ee240ce415"
   },
   "outputs": [
    {
     "name": "stdout",
     "output_type": "stream",
     "text": [
      "17 is a favorite\n",
      "4 is a favorite\n"
     ]
    }
   ],
   "source": [
    "fav_numbers = { 'eric': 17, 'ever':4}\n",
    "for number in fav_numbers.values():\n",
    "  print(str(number) + ' is a favorite')"
   ]
  },
  {
   "cell_type": "markdown",
   "metadata": {
    "id": "UAYul3TRj6LU"
   },
   "source": [
    "### User input \n",
    "\n",
    "Your programs can prompt the user for input. All input is stored as a string.\n",
    "\n",
    "**1. Prompting for a value**"
   ]
  },
  {
   "cell_type": "code",
   "execution_count": 10,
   "metadata": {
    "colab": {
     "base_uri": "https://localhost:8080/"
    },
    "id": "P115VXApkGNd",
    "outputId": "520b3807-a61e-4d5a-e365-3e66c6cfcd65"
   },
   "outputs": [
    {
     "name": "stdout",
     "output_type": "stream",
     "text": [
      "What's your name? Daniel\n",
      "Hello, Daniel!\n"
     ]
    }
   ],
   "source": [
    "name = input(\"What's your name? \")\n",
    "print(\"Hello, \"+ name + \"!\")"
   ]
  },
  {
   "cell_type": "markdown",
   "metadata": {
    "id": "BiyMcQndkjwm"
   },
   "source": [
    "**2. Prompting for numberic input**"
   ]
  },
  {
   "cell_type": "code",
   "execution_count": 11,
   "metadata": {
    "colab": {
     "base_uri": "https://localhost:8080/"
    },
    "id": "YRDrCLCIkpzd",
    "outputId": "3052b309-538c-40e7-fb4f-e3312a48973b"
   },
   "outputs": [
    {
     "name": "stdout",
     "output_type": "stream",
     "text": [
      "How old are you? 30\n"
     ]
    }
   ],
   "source": [
    "age = input(\"How old are you? \")\n",
    "age = int(age)"
   ]
  },
  {
   "cell_type": "code",
   "execution_count": 13,
   "metadata": {
    "colab": {
     "base_uri": "https://localhost:8080/"
    },
    "id": "RlFtrylwlI1M",
    "outputId": "4f70fcb1-7d41-422b-e499-cc706f555b72"
   },
   "outputs": [
    {
     "name": "stdout",
     "output_type": "stream",
     "text": [
      "What's the value of pi?3.14\n"
     ]
    }
   ],
   "source": [
    "pi = input(\"What's the value of pi?\")\n",
    "pi = float(pi)"
   ]
  },
  {
   "cell_type": "markdown",
   "metadata": {
    "id": "zdqNb2K5lGMz"
   },
   "source": [
    "### While loops \n",
    "\n",
    "A while loop repeats a block of code as long as a certain condition is true.\n",
    "\n",
    "**1. simple while loop** "
   ]
  },
  {
   "cell_type": "code",
   "execution_count": 14,
   "metadata": {
    "colab": {
     "base_uri": "https://localhost:8080/"
    },
    "id": "z8j45JBOmG-Y",
    "outputId": "cba9aaa4-f91e-4dba-d93d-3f147d60f53c"
   },
   "outputs": [
    {
     "name": "stdout",
     "output_type": "stream",
     "text": [
      "1\n",
      "2\n",
      "3\n",
      "4\n",
      "5\n"
     ]
    }
   ],
   "source": [
    "current_value = 1 \n",
    "while current_value <= 5:\n",
    "  print(current_value)\n",
    "  current_value +=1"
   ]
  },
  {
   "cell_type": "markdown",
   "metadata": {
    "id": "hXpG7pSUmTaF"
   },
   "source": [
    "**2. Letting the user choose when to quit**"
   ]
  },
  {
   "cell_type": "code",
   "execution_count": 15,
   "metadata": {
    "colab": {
     "base_uri": "https://localhost:8080/"
    },
    "id": "QvjPAETPmY_U",
    "outputId": "0bf79dcf-8e86-4607-d5b3-141dbd8a0688"
   },
   "outputs": [
    {
     "name": "stdout",
     "output_type": "stream",
     "text": [
      "what's your message?hello\n",
      "hello\n",
      "what's your message?quit\n",
      "quit\n"
     ]
    }
   ],
   "source": [
    "msg = ''\n",
    "while msg !='quit':\n",
    "  msg = input(\"what's your message?\")\n",
    "  print(msg)"
   ]
  },
  {
   "cell_type": "markdown",
   "metadata": {
    "id": "ykoi0SFvmoER"
   },
   "source": [
    "### Functions\n",
    "\n",
    "Functions are named blockes of code, designed to do one specfic job. Information passed to a function is called an argument, and information received by a function is called a parameter.\n",
    "\n",
    "**1. A simple function**"
   ]
  },
  {
   "cell_type": "code",
   "execution_count": 16,
   "metadata": {
    "colab": {
     "base_uri": "https://localhost:8080/"
    },
    "id": "MsShp4tWm_P2",
    "outputId": "eda6cb5d-db4f-4ff0-a5af-e8260ed91f47"
   },
   "outputs": [
    {
     "name": "stdout",
     "output_type": "stream",
     "text": [
      "Hello!\n"
     ]
    }
   ],
   "source": [
    "def greet_user():\n",
    "  \"\"\"Display a simple greeting.\"\"\"\n",
    "  print(\"Hello!\")\n",
    "\n",
    "greet_user()"
   ]
  },
  {
   "cell_type": "markdown",
   "metadata": {
    "id": "E7Lm-2abnpQF"
   },
   "source": [
    "**2. Passing an argument**"
   ]
  },
  {
   "cell_type": "code",
   "execution_count": 17,
   "metadata": {
    "colab": {
     "base_uri": "https://localhost:8080/"
    },
    "id": "xTaUA7iWnslp",
    "outputId": "1e6abedb-25ae-4f94-d849-2098a9228dcc"
   },
   "outputs": [
    {
     "name": "stdout",
     "output_type": "stream",
     "text": [
      "Hello, Jesse!\n"
     ]
    }
   ],
   "source": [
    "def greet_user(username):\n",
    "  \"\"\"Display a personalized greeting.\"\"\"\n",
    "  print(\"Hello, \" + username + \"!\")\n",
    "\n",
    "greet_user('Jesse')"
   ]
  },
  {
   "cell_type": "markdown",
   "metadata": {
    "id": "K734iiabn-U5"
   },
   "source": [
    "**3. Default values for paramters**"
   ]
  },
  {
   "cell_type": "code",
   "execution_count": 18,
   "metadata": {
    "colab": {
     "base_uri": "https://localhost:8080/"
    },
    "id": "79Y_QM0DoQ5E",
    "outputId": "b09828f5-9eb9-4147-efbd-c7eb5b41101c"
   },
   "outputs": [
    {
     "name": "stdout",
     "output_type": "stream",
     "text": [
      "Have a bacon pizza!\n",
      "Have a pepperoni pizza!\n"
     ]
    }
   ],
   "source": [
    "def make_pizza(topping='bacon'):\n",
    "  \"\"\"Make a single-topping pizza.\"\"\"\n",
    "  print(\"Have a \" + topping + \" pizza!\")\n",
    "\n",
    "make_pizza()\n",
    "make_pizza('pepperoni')"
   ]
  },
  {
   "cell_type": "markdown",
   "metadata": {
    "id": "MGR1YO85ovTR"
   },
   "source": [
    "**4. Returning a value**"
   ]
  },
  {
   "cell_type": "code",
   "execution_count": 19,
   "metadata": {
    "colab": {
     "base_uri": "https://localhost:8080/"
    },
    "id": "bsKnjzP2o5_n",
    "outputId": "21a35e9c-4524-41d3-97a3-ae5de177f7b3"
   },
   "outputs": [
    {
     "name": "stdout",
     "output_type": "stream",
     "text": [
      "8\n"
     ]
    }
   ],
   "source": [
    "def add_numbers(x, y):\n",
    "  \"\"\"Add two numbers and return the sum.\"\"\"\n",
    "  return x + y\n",
    "\n",
    "sum = add_numbers(3, 5)\n",
    "print(sum)"
   ]
  },
  {
   "cell_type": "markdown",
   "metadata": {
    "id": "BhkQVeq5psrK"
   },
   "source": [
    "### Classes\n",
    "\n",
    "A class defines the behavior of an object and the kind of information an object can store. The information in a class is stored in attributes, and functions that belong to a class are called methods. A child class inherits the attributes and methods from its parent class.\n",
    "\n",
    "**1. Creating a dog class**"
   ]
  },
  {
   "cell_type": "code",
   "execution_count": 20,
   "metadata": {
    "colab": {
     "base_uri": "https://localhost:8080/"
    },
    "id": "TcoJe_S2qIB0",
    "outputId": "4eb3446e-1cca-4515-f92d-c099137d9f35"
   },
   "outputs": [
    {
     "name": "stdout",
     "output_type": "stream",
     "text": [
      "Peso is a great dog!\n",
      "Peso is sitting.\n"
     ]
    }
   ],
   "source": [
    "class Dog():\n",
    "  \"\"\"Represent a dog.\"\"\"\n",
    "\n",
    "  def __init__(self, name):\n",
    "    \"\"\"Initialize dog object.\"\"\"\n",
    "    self.name = name\n",
    "  \n",
    "  def sit(self):\n",
    "    \"\"\" Simulate sitting.\"\"\"\n",
    "    print(self.name + \" is sitting.\")\n",
    "  \n",
    "my_dog = Dog('Peso')\n",
    "print(my_dog.name + \" is a great dog!\")\n",
    "my_dog.sit()"
   ]
  },
  {
   "cell_type": "markdown",
   "metadata": {
    "id": "ovYuLpRZrVyg"
   },
   "source": [
    "**2. Inheritance**"
   ]
  },
  {
   "cell_type": "code",
   "execution_count": 21,
   "metadata": {
    "colab": {
     "base_uri": "https://localhost:8080/"
    },
    "id": "Xnflnj9NrZO2",
    "outputId": "b80b3a14-8209-4958-b557-cf2852665989"
   },
   "outputs": [
    {
     "name": "stdout",
     "output_type": "stream",
     "text": [
      "Whille is a search dog.\n",
      "Whille is sitting.\n",
      "Whille is searching.\n"
     ]
    }
   ],
   "source": [
    "class SARDog(Dog):\n",
    "  \"\"\"Represent a search dog.\"\"\"\n",
    "\n",
    "  def __init__(self, name):\n",
    "    \"\"\" Initialize the sardog.\"\"\"\n",
    "    super().__init__(name)\n",
    "  \n",
    "  def search(self):\n",
    "    \"\"\"Simulate searching.\"\"\"\n",
    "    print(self.name + \" is searching.\")\n",
    "\n",
    "my_dog = SARDog('Whille')\n",
    "\n",
    "print(my_dog.name + \" is a search dog.\")\n",
    "my_dog.sit()\n",
    "my_dog.search()"
   ]
  },
  {
   "cell_type": "markdown",
   "metadata": {
    "id": "NHjtlRfPsSem"
   },
   "source": [
    "### Working with files\n",
    "\n",
    "Your programs can read from files and write to files. Files are opened in read mode ('r') by default, but can also be opened in write mode ('w') and append mode ('a').\n",
    "\n",
    "**1. Reading a file and storing it's lines**"
   ]
  },
  {
   "cell_type": "code",
   "execution_count": null,
   "metadata": {
    "id": "X3IwijwYtZ3k"
   },
   "outputs": [],
   "source": [
    "filename = 'sample.txt'\n",
    "while open(filename) as file_object:\n",
    "  lines = file_object.readlines()\n",
    "\n",
    "for line in lines:\n",
    "  print(line)"
   ]
  },
  {
   "cell_type": "markdown",
   "metadata": {
    "id": "6wcFAFm0tkXk"
   },
   "source": [
    "**2. Writing to a file**"
   ]
  },
  {
   "cell_type": "code",
   "execution_count": null,
   "metadata": {
    "id": "uOSwW8uXtoUe"
   },
   "outputs": [],
   "source": [
    "filename = 'sample.txt'\n",
    "with open(filename, 'w') as file_object:\n",
    "  file_object.write(\"I love programming.\")"
   ]
  },
  {
   "cell_type": "markdown",
   "metadata": {
    "id": "A1jChmT4t4q8"
   },
   "source": [
    "**3. Appending to a file**"
   ]
  },
  {
   "cell_type": "code",
   "execution_count": null,
   "metadata": {
    "id": "uPr6AbdTt9_e"
   },
   "outputs": [],
   "source": [
    "filename = 'sample.txt'\n",
    "with open(filename, 'a') as file_object:\n",
    "  file_object.write(\"\\nI love making games.\")"
   ]
  },
  {
   "cell_type": "markdown",
   "metadata": {
    "id": "4iaHy7d0uS3I"
   },
   "source": [
    "### Exceptions\n",
    "\n",
    "Exceptions help you respond appropriately to errors that are likely to occur. You place code that might cause an error in the try block. Code that should run in response to an error goes in the except block. Code that should run only if the try block was successful goes in the else block.\n",
    "\n",
    "**1. Catching an exception**\n"
   ]
  },
  {
   "cell_type": "code",
   "execution_count": 24,
   "metadata": {
    "colab": {
     "base_uri": "https://localhost:8080/"
    },
    "id": "ZJo3vXQOun4F",
    "outputId": "0b28d58d-e62f-4747-9b3a-5ec988b98432"
   },
   "outputs": [
    {
     "name": "stdout",
     "output_type": "stream",
     "text": [
      "How many tickets do you need?ds\n",
      "Please try again.\n"
     ]
    }
   ],
   "source": [
    "prompt = \"How many tickets do you need?\"\n",
    "num_tickets = input(prompt)\n",
    "\n",
    "try: \n",
    "  num_tickets = int(num_tickets)\n",
    "except ValueError:\n",
    "  print(\"Please try again.\")\n",
    "else:\n",
    "  print(\"Your tickets are printing.\")"
   ]
  }
 ],
 "metadata": {
  "colab": {
   "name": "Beginner-Python.ipynb",
   "provenance": [],
   "toc_visible": true
  },
  "kernelspec": {
   "display_name": "Python 3",
   "language": "python",
   "name": "python3"
  },
  "language_info": {
   "codemirror_mode": {
    "name": "ipython",
    "version": 3
   },
   "file_extension": ".py",
   "mimetype": "text/x-python",
   "name": "python",
   "nbconvert_exporter": "python",
   "pygments_lexer": "ipython3",
   "version": "3.8.5"
  }
 },
 "nbformat": 4,
 "nbformat_minor": 1
}
